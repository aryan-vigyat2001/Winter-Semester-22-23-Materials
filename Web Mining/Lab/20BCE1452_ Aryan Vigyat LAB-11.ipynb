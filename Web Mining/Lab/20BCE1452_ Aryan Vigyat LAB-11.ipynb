{
  "cells": [
    {
      "cell_type": "markdown",
      "metadata": {
        "id": "hodVVgaH5mp8"
      },
      "source": [
        "<h1 align=\"center\">Web Mining Lab Assignment-11\n",
        "</h1>\n",
        "                                                                                                                                        <h3 align=\"right\">Aryan Vigyat</h3>\n",
        "                                                                                                            <h3 align=\"right\"> 20BCE1452</h3>\n",
        "                                                                                        "
      ]
    },
    {
      "cell_type": "code",
      "execution_count": null,
      "metadata": {
        "id": "S7fPE0sV5lhn"
      },
      "outputs": [],
      "source": [
        "import pandas as pd"
      ]
    },
    {
      "cell_type": "markdown",
      "metadata": {
        "id": "46VpjUwc5tAE"
      },
      "source": [
        "#Dataset Upload"
      ]
    },
    {
      "cell_type": "code",
      "execution_count": null,
      "metadata": {
        "colab": {
          "base_uri": "https://localhost:8080/",
          "height": 206
        },
        "id": "OFCVM8N96gXW",
        "outputId": "49e316bf-aff8-4d40-a669-2ae2cbebb5ab"
      },
      "outputs": [
        {
          "data": {
            "text/html": [
              "\n",
              "  <div id=\"df-3fcf47b5-6932-49b7-8aaa-de172a8044a4\">\n",
              "    <div class=\"colab-df-container\">\n",
              "      <div>\n",
              "<style scoped>\n",
              "    .dataframe tbody tr th:only-of-type {\n",
              "        vertical-align: middle;\n",
              "    }\n",
              "\n",
              "    .dataframe tbody tr th {\n",
              "        vertical-align: top;\n",
              "    }\n",
              "\n",
              "    .dataframe thead th {\n",
              "        text-align: right;\n",
              "    }\n",
              "</style>\n",
              "<table border=\"1\" class=\"dataframe\">\n",
              "  <thead>\n",
              "    <tr style=\"text-align: right;\">\n",
              "      <th></th>\n",
              "      <th>year</th>\n",
              "      <th>month</th>\n",
              "      <th>day</th>\n",
              "      <th>order</th>\n",
              "      <th>country</th>\n",
              "      <th>session ID</th>\n",
              "      <th>page 1 (main category)</th>\n",
              "      <th>page 2 (clothing model)</th>\n",
              "      <th>colour</th>\n",
              "      <th>location</th>\n",
              "      <th>model photography</th>\n",
              "      <th>price</th>\n",
              "      <th>price 2</th>\n",
              "      <th>page</th>\n",
              "    </tr>\n",
              "  </thead>\n",
              "  <tbody>\n",
              "    <tr>\n",
              "      <th>0</th>\n",
              "      <td>2008</td>\n",
              "      <td>4</td>\n",
              "      <td>1</td>\n",
              "      <td>1</td>\n",
              "      <td>29</td>\n",
              "      <td>1</td>\n",
              "      <td>1</td>\n",
              "      <td>A13</td>\n",
              "      <td>1</td>\n",
              "      <td>5</td>\n",
              "      <td>1</td>\n",
              "      <td>28</td>\n",
              "      <td>2</td>\n",
              "      <td>1</td>\n",
              "    </tr>\n",
              "    <tr>\n",
              "      <th>1</th>\n",
              "      <td>2008</td>\n",
              "      <td>4</td>\n",
              "      <td>1</td>\n",
              "      <td>2</td>\n",
              "      <td>29</td>\n",
              "      <td>1</td>\n",
              "      <td>1</td>\n",
              "      <td>A16</td>\n",
              "      <td>1</td>\n",
              "      <td>6</td>\n",
              "      <td>1</td>\n",
              "      <td>33</td>\n",
              "      <td>2</td>\n",
              "      <td>1</td>\n",
              "    </tr>\n",
              "    <tr>\n",
              "      <th>2</th>\n",
              "      <td>2008</td>\n",
              "      <td>4</td>\n",
              "      <td>1</td>\n",
              "      <td>3</td>\n",
              "      <td>29</td>\n",
              "      <td>1</td>\n",
              "      <td>2</td>\n",
              "      <td>B4</td>\n",
              "      <td>10</td>\n",
              "      <td>2</td>\n",
              "      <td>1</td>\n",
              "      <td>52</td>\n",
              "      <td>1</td>\n",
              "      <td>1</td>\n",
              "    </tr>\n",
              "    <tr>\n",
              "      <th>3</th>\n",
              "      <td>2008</td>\n",
              "      <td>4</td>\n",
              "      <td>1</td>\n",
              "      <td>4</td>\n",
              "      <td>29</td>\n",
              "      <td>1</td>\n",
              "      <td>2</td>\n",
              "      <td>B17</td>\n",
              "      <td>6</td>\n",
              "      <td>6</td>\n",
              "      <td>2</td>\n",
              "      <td>38</td>\n",
              "      <td>2</td>\n",
              "      <td>1</td>\n",
              "    </tr>\n",
              "    <tr>\n",
              "      <th>4</th>\n",
              "      <td>2008</td>\n",
              "      <td>4</td>\n",
              "      <td>1</td>\n",
              "      <td>5</td>\n",
              "      <td>29</td>\n",
              "      <td>1</td>\n",
              "      <td>2</td>\n",
              "      <td>B8</td>\n",
              "      <td>4</td>\n",
              "      <td>3</td>\n",
              "      <td>2</td>\n",
              "      <td>52</td>\n",
              "      <td>1</td>\n",
              "      <td>1</td>\n",
              "    </tr>\n",
              "  </tbody>\n",
              "</table>\n",
              "</div>\n",
              "      <button class=\"colab-df-convert\" onclick=\"convertToInteractive('df-3fcf47b5-6932-49b7-8aaa-de172a8044a4')\"\n",
              "              title=\"Convert this dataframe to an interactive table.\"\n",
              "              style=\"display:none;\">\n",
              "        \n",
              "  <svg xmlns=\"http://www.w3.org/2000/svg\" height=\"24px\"viewBox=\"0 0 24 24\"\n",
              "       width=\"24px\">\n",
              "    <path d=\"M0 0h24v24H0V0z\" fill=\"none\"/>\n",
              "    <path d=\"M18.56 5.44l.94 2.06.94-2.06 2.06-.94-2.06-.94-.94-2.06-.94 2.06-2.06.94zm-11 1L8.5 8.5l.94-2.06 2.06-.94-2.06-.94L8.5 2.5l-.94 2.06-2.06.94zm10 10l.94 2.06.94-2.06 2.06-.94-2.06-.94-.94-2.06-.94 2.06-2.06.94z\"/><path d=\"M17.41 7.96l-1.37-1.37c-.4-.4-.92-.59-1.43-.59-.52 0-1.04.2-1.43.59L10.3 9.45l-7.72 7.72c-.78.78-.78 2.05 0 2.83L4 21.41c.39.39.9.59 1.41.59.51 0 1.02-.2 1.41-.59l7.78-7.78 2.81-2.81c.8-.78.8-2.07 0-2.86zM5.41 20L4 18.59l7.72-7.72 1.47 1.35L5.41 20z\"/>\n",
              "  </svg>\n",
              "      </button>\n",
              "      \n",
              "  <style>\n",
              "    .colab-df-container {\n",
              "      display:flex;\n",
              "      flex-wrap:wrap;\n",
              "      gap: 12px;\n",
              "    }\n",
              "\n",
              "    .colab-df-convert {\n",
              "      background-color: #E8F0FE;\n",
              "      border: none;\n",
              "      border-radius: 50%;\n",
              "      cursor: pointer;\n",
              "      display: none;\n",
              "      fill: #1967D2;\n",
              "      height: 32px;\n",
              "      padding: 0 0 0 0;\n",
              "      width: 32px;\n",
              "    }\n",
              "\n",
              "    .colab-df-convert:hover {\n",
              "      background-color: #E2EBFA;\n",
              "      box-shadow: 0px 1px 2px rgba(60, 64, 67, 0.3), 0px 1px 3px 1px rgba(60, 64, 67, 0.15);\n",
              "      fill: #174EA6;\n",
              "    }\n",
              "\n",
              "    [theme=dark] .colab-df-convert {\n",
              "      background-color: #3B4455;\n",
              "      fill: #D2E3FC;\n",
              "    }\n",
              "\n",
              "    [theme=dark] .colab-df-convert:hover {\n",
              "      background-color: #434B5C;\n",
              "      box-shadow: 0px 1px 3px 1px rgba(0, 0, 0, 0.15);\n",
              "      filter: drop-shadow(0px 1px 2px rgba(0, 0, 0, 0.3));\n",
              "      fill: #FFFFFF;\n",
              "    }\n",
              "  </style>\n",
              "\n",
              "      <script>\n",
              "        const buttonEl =\n",
              "          document.querySelector('#df-3fcf47b5-6932-49b7-8aaa-de172a8044a4 button.colab-df-convert');\n",
              "        buttonEl.style.display =\n",
              "          google.colab.kernel.accessAllowed ? 'block' : 'none';\n",
              "\n",
              "        async function convertToInteractive(key) {\n",
              "          const element = document.querySelector('#df-3fcf47b5-6932-49b7-8aaa-de172a8044a4');\n",
              "          const dataTable =\n",
              "            await google.colab.kernel.invokeFunction('convertToInteractive',\n",
              "                                                     [key], {});\n",
              "          if (!dataTable) return;\n",
              "\n",
              "          const docLinkHtml = 'Like what you see? Visit the ' +\n",
              "            '<a target=\"_blank\" href=https://colab.research.google.com/notebooks/data_table.ipynb>data table notebook</a>'\n",
              "            + ' to learn more about interactive tables.';\n",
              "          element.innerHTML = '';\n",
              "          dataTable['output_type'] = 'display_data';\n",
              "          await google.colab.output.renderOutput(dataTable, element);\n",
              "          const docLink = document.createElement('div');\n",
              "          docLink.innerHTML = docLinkHtml;\n",
              "          element.appendChild(docLink);\n",
              "        }\n",
              "      </script>\n",
              "    </div>\n",
              "  </div>\n",
              "  "
            ],
            "text/plain": [
              "   year  month  day  order  country  session ID  page 1 (main category)  \\\n",
              "0  2008      4    1      1       29           1                       1   \n",
              "1  2008      4    1      2       29           1                       1   \n",
              "2  2008      4    1      3       29           1                       2   \n",
              "3  2008      4    1      4       29           1                       2   \n",
              "4  2008      4    1      5       29           1                       2   \n",
              "\n",
              "  page 2 (clothing model)  colour  location  model photography  price  \\\n",
              "0                     A13       1         5                  1     28   \n",
              "1                     A16       1         6                  1     33   \n",
              "2                      B4      10         2                  1     52   \n",
              "3                     B17       6         6                  2     38   \n",
              "4                      B8       4         3                  2     52   \n",
              "\n",
              "   price 2  page  \n",
              "0        2     1  \n",
              "1        2     1  \n",
              "2        1     1  \n",
              "3        2     1  \n",
              "4        1     1  "
            ]
          },
          "execution_count": 26,
          "metadata": {},
          "output_type": "execute_result"
        }
      ],
      "source": [
        "data = pd.read_csv(\"C/Users/ayuar/e-shop clothing 2008.csv\")\n",
        "data.head()"
      ]
    },
    {
      "cell_type": "markdown",
      "metadata": {
        "id": "sSoMedro_Z2M"
      },
      "source": [
        "#1) When do sales peak?"
      ]
    },
    {
      "cell_type": "code",
      "execution_count": null,
      "metadata": {
        "colab": {
          "base_uri": "https://localhost:8080/"
        },
        "id": "M-udcvFt8HH9",
        "outputId": "beee22a2-32d9-4aa0-9513-fffaf62929a3"
      },
      "outputs": [
        {
          "name": "stdout",
          "output_type": "stream",
          "text": [
            "month\n",
            "4    112\n",
            "5    161\n",
            "6    192\n",
            "7    142\n",
            "8    195\n",
            "Name: order, dtype: int64\n"
          ]
        }
      ],
      "source": [
        "peak_sales = data.groupby(['month'])['order'].nunique()\n",
        "print(peak_sales)"
      ]
    },
    {
      "cell_type": "markdown",
      "metadata": {
        "id": "Q_rswL74_feY"
      },
      "source": [
        "#2) What type of clothing sells most? "
      ]
    },
    {
      "cell_type": "code",
      "execution_count": null,
      "metadata": {
        "colab": {
          "base_uri": "https://localhost:8080/"
        },
        "id": "sf5EM2Hv8HW6",
        "outputId": "f0076c1e-53f6-4041-e934-8ac2b70c7c1a"
      },
      "outputs": [
        {
          "name": "stdout",
          "output_type": "stream",
          "text": [
            "3\n"
          ]
        }
      ],
      "source": [
        "most_sold_clothing = data.groupby(['page 1 (main category)'])['order'].nunique().idxmax()\n",
        "print(most_sold_clothing)"
      ]
    },
    {
      "cell_type": "markdown",
      "metadata": {
        "id": "UweIeDCB_f_Z"
      },
      "source": [
        "#3) What type of clothing sells most per month?"
      ]
    },
    {
      "cell_type": "code",
      "execution_count": null,
      "metadata": {
        "colab": {
          "base_uri": "https://localhost:8080/"
        },
        "id": "TacwmuCy8Haa",
        "outputId": "acceec76-a0c3-45f5-86e6-66df6330d87d"
      },
      "outputs": [
        {
          "name": "stdout",
          "output_type": "stream",
          "text": [
            "month\n",
            "4    4\n",
            "5    4\n",
            "6    3\n",
            "7    3\n",
            "8    3\n",
            "dtype: int64\n"
          ]
        }
      ],
      "source": [
        "monthly_most_sold_clothing = data.groupby(['month', 'page 1 (main category)'])['order'].nunique().reset_index()\n",
        "monthly_most_sold_clothing = monthly_most_sold_clothing.groupby(['month']).apply(lambda x: x.loc[x['order'].idxmax()]['page 1 (main category)'])\n",
        "print(monthly_most_sold_clothing)"
      ]
    },
    {
      "cell_type": "markdown",
      "metadata": {
        "id": "G_BVcmia_ho3"
      },
      "source": [
        "#4) Identify the sessions in the log file"
      ]
    },
    {
      "cell_type": "code",
      "execution_count": null,
      "metadata": {
        "colab": {
          "base_uri": "https://localhost:8080/"
        },
        "id": "yW7wmMPa8HdD",
        "outputId": "8963c707-2331-4bc4-c927-4a0b2ea3ca4a"
      },
      "outputs": [
        {
          "name": "stdout",
          "output_type": "stream",
          "text": [
            "session ID\n",
            "1         9\n",
            "2        10\n",
            "3         6\n",
            "4         4\n",
            "5         1\n",
            "         ..\n",
            "24022     3\n",
            "24023     7\n",
            "24024     1\n",
            "24025     1\n",
            "24026     3\n",
            "Name: order, Length: 24026, dtype: int64\n"
          ]
        }
      ],
      "source": [
        "sessions = data.groupby(['session ID'])['order'].count()\n",
        "print(sessions)"
      ]
    },
    {
      "cell_type": "markdown",
      "metadata": {
        "id": "XfbnCo5B_jD6"
      },
      "source": [
        "#5) Does a correlation exist between price and page, and, if so, how strongly are price and product placement related?"
      ]
    },
    {
      "cell_type": "code",
      "execution_count": null,
      "metadata": {
        "colab": {
          "base_uri": "https://localhost:8080/"
        },
        "id": "IKrx0Vsn-SQS",
        "outputId": "ab7826a7-9cd7-4706-ea8b-01839c72777d"
      },
      "outputs": [
        {
          "name": "stdout",
          "output_type": "stream",
          "text": [
            "             price  location\n",
            "price     1.000000 -0.084653\n",
            "location -0.084653  1.000000\n"
          ]
        }
      ],
      "source": [
        "price_page_corr = data[['price', 'location']].corr()\n",
        "print(price_page_corr)"
      ]
    },
    {
      "cell_type": "markdown",
      "metadata": {
        "id": "2nF8LIv7_kTk"
      },
      "source": [
        "#6) Which country has the most website visitors?"
      ]
    },
    {
      "cell_type": "code",
      "execution_count": null,
      "metadata": {
        "colab": {
          "base_uri": "https://localhost:8080/"
        },
        "id": "DSkNrUjJ-ST5",
        "outputId": "c30cdf02-7d3b-436e-cd37-ee1868793e04"
      },
      "outputs": [
        {
          "name": "stdout",
          "output_type": "stream",
          "text": [
            "29\n"
          ]
        }
      ],
      "source": [
        "most_visitors = data['country'].value_counts().idxmax()\n",
        "print(most_visitors)"
      ]
    },
    {
      "cell_type": "markdown",
      "metadata": {
        "id": "An_Ai65G_lqv"
      },
      "source": [
        "#7) Find the average number of clicks in each country"
      ]
    },
    {
      "cell_type": "code",
      "execution_count": null,
      "metadata": {
        "colab": {
          "base_uri": "https://localhost:8080/"
        },
        "id": "gOpMJ9OJ-SXC",
        "outputId": "446a0886-f96c-42f8-90e0-5b9ff4630253"
      },
      "outputs": [
        {
          "name": "stdout",
          "output_type": "stream",
          "text": [
            "3520.723404255319\n"
          ]
        }
      ],
      "source": [
        "avg_clicks_per_country = data.groupby(['country'])['order'].count().mean()\n",
        "print(avg_clicks_per_country)"
      ]
    },
    {
      "cell_type": "markdown",
      "metadata": {
        "id": "yArshPQc_mHB"
      },
      "source": [
        "#8) Does users seek cheaper products ?"
      ]
    },
    {
      "cell_type": "code",
      "execution_count": null,
      "metadata": {
        "colab": {
          "base_uri": "https://localhost:8080/"
        },
        "id": "vCcntCVZ-Siw",
        "outputId": "77618071-9562-46d2-8cb0-708abf4014d5"
      },
      "outputs": [
        {
          "name": "stdout",
          "output_type": "stream",
          "text": [
            "price 2\n",
            "1    185\n",
            "2    187\n",
            "Name: order, dtype: int64\n"
          ]
        }
      ],
      "source": [
        "cheap_products_seeked = data.groupby(['price 2'])['order'].nunique()\n",
        "print(cheap_products_seeked)"
      ]
    },
    {
      "cell_type": "markdown",
      "metadata": {
        "id": "dOm0H9zt_pG_"
      },
      "source": [
        "#9) Are more clicks on the website refer to higher sales? and is the main category related?"
      ]
    },
    {
      "cell_type": "code",
      "execution_count": null,
      "metadata": {
        "colab": {
          "base_uri": "https://localhost:8080/"
        },
        "id": "ggXt2BBB-Som",
        "outputId": "22b13249-f2b7-41e8-e030-5d37f3b83680"
      },
      "outputs": [
        {
          "name": "stdout",
          "output_type": "stream",
          "text": [
            "0.009013005332324811\n"
          ]
        }
      ],
      "source": [
        "clicks_vs_sales = data.groupby(['page 1 (main category)'])['order'].nunique().corr(data.groupby(['page 1 (main category)'])['order'].count())\n",
        "print(clicks_vs_sales)"
      ]
    },
    {
      "cell_type": "markdown",
      "metadata": {
        "id": "sDhxRRoL_qzR"
      },
      "source": [
        "#10) What is the best selling category?"
      ]
    },
    {
      "cell_type": "code",
      "execution_count": null,
      "metadata": {
        "colab": {
          "base_uri": "https://localhost:8080/"
        },
        "id": "4T7YtMZ8-Sry",
        "outputId": "cd104ccc-f584-432e-f912-d59a7c961ad7"
      },
      "outputs": [
        {
          "name": "stdout",
          "output_type": "stream",
          "text": [
            "3\n"
          ]
        }
      ],
      "source": [
        "best_selling_category = data.groupby(['page 1 (main category)'])['order'].nunique().idxmax()\n",
        "print(best_selling_category)"
      ]
    },
    {
      "cell_type": "markdown",
      "metadata": {
        "id": "tzCw0tPy_sHp"
      },
      "source": [
        "#11) What do customers buy from each page?"
      ]
    },
    {
      "cell_type": "code",
      "execution_count": null,
      "metadata": {
        "colab": {
          "base_uri": "https://localhost:8080/"
        },
        "id": "i5DrKU6k-Sug",
        "outputId": "4f8787d1-2b0d-461e-f7cd-4e7ac2483b4a"
      },
      "outputs": [
        {
          "name": "stdout",
          "output_type": "stream",
          "text": [
            "page\n",
            "1    71\n",
            "2    70\n",
            "3    42\n",
            "4    24\n",
            "5    10\n",
            "Name: page 2 (clothing model), dtype: int64\n"
          ]
        }
      ],
      "source": [
        "products_per_page = data.groupby(['page'])['page 2 (clothing model)'].nunique()\n",
        "print(products_per_page)"
      ]
    },
    {
      "cell_type": "markdown",
      "metadata": {
        "id": "ODsilLvL_tUT"
      },
      "source": [
        "#12) What is the most attractable section in page and color of product per type?"
      ]
    },
    {
      "cell_type": "code",
      "execution_count": null,
      "metadata": {
        "colab": {
          "base_uri": "https://localhost:8080/"
        },
        "id": "BBoFXGDX-Sxx",
        "outputId": "670d6358-2c9e-4d31-ac7a-720e73c61130"
      },
      "outputs": [
        {
          "name": "stdout",
          "output_type": "stream",
          "text": [
            "                        location  colour\n",
            "page 1 (main category)                  \n",
            "1                              2       3\n",
            "2                              4       2\n",
            "3                              6      14\n",
            "4                              6       2\n"
          ]
        }
      ],
      "source": [
        "attractive_section_color = data.groupby(['page 1 (main category)', 'location', 'colour'])['order'].nunique().reset_index()\n",
        "attractive_section_color = attractive_section_color.groupby(['page 1 (main category)']).apply(lambda x: x.loc[x['order'].idxmax()][['location', 'colour']])\n",
        "print(attractive_section_color)"
      ]
    },
    {
      "cell_type": "markdown",
      "metadata": {
        "id": "qxvBwIFq_u2l"
      },
      "source": [
        "#13) Are selling products affected by colour ?"
      ]
    },
    {
      "cell_type": "code",
      "execution_count": null,
      "metadata": {
        "colab": {
          "base_uri": "https://localhost:8080/"
        },
        "id": "DXDKho2N-S1H",
        "outputId": "b3e98abf-dce0-4f5f-b63c-85ec31be1f47"
      },
      "outputs": [
        {
          "name": "stdout",
          "output_type": "stream",
          "text": [
            "0.07163079131878583\n"
          ]
        }
      ],
      "source": [
        "color_effect_on_sales = data.groupby(['colour'])['order'].nunique().corr(data.groupby(['colour'])['price'].mean())\n",
        "print(color_effect_on_sales)"
      ]
    },
    {
      "cell_type": "markdown",
      "metadata": {
        "id": "6R83hAWa_wQX"
      },
      "source": [
        "#14) Find the Relationship between countries and buying days"
      ]
    },
    {
      "cell_type": "code",
      "execution_count": null,
      "metadata": {
        "colab": {
          "base_uri": "https://localhost:8080/"
        },
        "id": "FRt24_RW-S4R",
        "outputId": "54b7fb34-0cb6-4153-ffd6-cc21202bc365"
      },
      "outputs": [
        {
          "name": "stdout",
          "output_type": "stream",
          "text": [
            "country\n",
            "1     11\n",
            "2     12\n",
            "3     19\n",
            "4     24\n",
            "5      5\n",
            "6     23\n",
            "7      2\n",
            "8      6\n",
            "9     10\n",
            "10     6\n",
            "11    10\n",
            "12    14\n",
            "13    24\n",
            "14    18\n",
            "15    21\n",
            "16     7\n",
            "17     8\n",
            "18    12\n",
            "19     6\n",
            "20    21\n",
            "21    16\n",
            "22     9\n",
            "23    11\n",
            "24    22\n",
            "25    26\n",
            "26     2\n",
            "27     3\n",
            "28     4\n",
            "29     3\n",
            "30    26\n",
            "31    29\n",
            "32    11\n",
            "33    17\n",
            "34    12\n",
            "35    15\n",
            "36    22\n",
            "37    13\n",
            "38    21\n",
            "39     2\n",
            "40    22\n",
            "41    16\n",
            "42    26\n",
            "43    12\n",
            "44    11\n",
            "45    28\n",
            "46     8\n",
            "47    12\n",
            "dtype: int64\n"
          ]
        }
      ],
      "source": [
        "country_buying_days = data.groupby(['country', 'day'])['order'].nunique().reset_index()\n",
        "country_buying_days = country_buying_days.groupby(['country']).apply(lambda x: x.loc[x['order'].idxmax()]['day'])\n",
        "print(country_buying_days)"
      ]
    },
    {
      "cell_type": "markdown",
      "metadata": {
        "id": "qSl58Ju1_x4F"
      },
      "source": [
        "#15) Should we put model photography in the face of the product or in the inside the profile ?"
      ]
    },
    {
      "cell_type": "code",
      "execution_count": null,
      "metadata": {
        "colab": {
          "base_uri": "https://localhost:8080/"
        },
        "id": "CwTJPYP5-TEu",
        "outputId": "36ee267a-3ebf-4b47-89df-b9d9d8b89a9b"
      },
      "outputs": [
        {
          "name": "stdout",
          "output_type": "stream",
          "text": [
            "model photography\n",
            "1    190\n",
            "2    178\n",
            "Name: order, dtype: int64\n"
          ]
        }
      ],
      "source": [
        "photography_placement = data.groupby(['model photography'])['order'].nunique()\n",
        "print(photography_placement)"
      ]
    },
    {
      "cell_type": "markdown",
      "metadata": {
        "id": "BcVnSTPp_zHi"
      },
      "source": [
        "#16) Relation between sales and buying days per month"
      ]
    },
    {
      "cell_type": "code",
      "execution_count": null,
      "metadata": {
        "colab": {
          "base_uri": "https://localhost:8080/"
        },
        "id": "YXaQ1ZxE-THu",
        "outputId": "07c74339-647c-48be-aae1-fc0289a386a3"
      },
      "outputs": [
        {
          "name": "stdout",
          "output_type": "stream",
          "text": [
            "month\n",
            "4    29\n",
            "5     8\n",
            "6    10\n",
            "7    16\n",
            "8     3\n",
            "dtype: int64\n"
          ]
        }
      ],
      "source": [
        "sales_buying_days = data.groupby(['month', 'day'])['order'].nunique().reset_index()\n",
        "sales_buying_days = sales_buying_days.groupby(['month']).apply(lambda x: x.loc[x['order'].idxmax()]['day'])\n",
        "print(sales_buying_days)"
      ]
    }
  ],
  "metadata": {
    "colab": {
      "provenance": []
    },
    "kernelspec": {
      "display_name": "Python 3",
      "name": "python3"
    },
    "language_info": {
      "name": "python"
    }
  },
  "nbformat": 4,
  "nbformat_minor": 0
}

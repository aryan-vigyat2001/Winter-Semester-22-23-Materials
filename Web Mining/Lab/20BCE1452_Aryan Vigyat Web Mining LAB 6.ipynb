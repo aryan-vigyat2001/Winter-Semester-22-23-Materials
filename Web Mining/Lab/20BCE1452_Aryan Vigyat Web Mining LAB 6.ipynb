{
  "cells": [
    {
      "attachments": {},
      "cell_type": "markdown",
      "metadata": {},
      "source": [
        "accxxzzz<h1 align=\"center\">Web Mining Lab Assignment-6</h1>\n",
        "                                                                                                                                        <h3 align=\"right\">Aryan Vigyat</h3>\n",
        "                                                                                                            <h3 align=\"right\"> 20BCE1452</h3>"
      ]
    },
    {
      "cell_type": "code",
      "execution_count": 1,
      "metadata": {
        "id": "tZB4TG-8GjF8"
      },
      "outputs": [],
      "source": [
        "import networkx as nx\n",
        "import matplotlib.pyplot as plt\n",
        "import numpy as np"
      ]
    },
    {
      "cell_type": "code",
      "execution_count": 2,
      "metadata": {
        "colab": {
          "base_uri": "https://localhost:8080/"
        },
        "id": "yO9RrQ4oMncW",
        "outputId": "cbd847b4-0a98-40f6-a6d8-c0379cd80c4e"
      },
      "outputs": [
        {
          "name": "stderr",
          "output_type": "stream",
          "text": [
            "The system cannot find the file specified.\n",
            "ERROR: Invalid requirement: \"'scipy\"\n"
          ]
        }
      ],
      "source": [
        "!pip install 'networkx<2.7'\n",
        "!pip install 'scipy>=1.8'"
      ]
    },
    {
      "attachments": {},
      "cell_type": "markdown",
      "metadata": {},
      "source": [
        "Part A\n"
      ]
    },
    {
      "cell_type": "code",
      "execution_count": 3,
      "metadata": {},
      "outputs": [
        {
          "data": {
            "text/plain": [
              "EdgeDataView([('1', '2', {'relation': 'neighbour'}), ('1', '3', {'relation': 'neighbour'}), ('1', '5', {'relation': 'neighbour'}), ('1', '6', {'relation': 'neighbour'}), ('1', '7', {'relation': 'neighbour'}), ('1', '10', {'relation': 'neighbour'}), ('2', '3', {'relation': 'neighbour'}), ('2', '4', {'relation': 'neighbour'}), ('2', '8', {'relation': 'neighbour'}), ('2', '9', {'relation': 'neighbour'}), ('2', '10', {'relation': 'neighbour'}), ('3', '8', {'relation': 'neighbour'}), ('3', '9', {'relation': 'neighbour'}), ('3', '10', {'relation': 'neighbour'}), ('5', '6', {'relation': 'neighbour'}), ('5', '9', {'relation': 'neighbour'}), ('5', '10', {'relation': 'neighbour'}), ('6', '8', {'relation': 'neighbour'}), ('6', '9', {'relation': 'neighbour'}), ('7', '4', {'relation': 'neighbour'}), ('7', '9', {'relation': 'neighbour'}), ('7', '10', {'relation': 'neighbour'}), ('10', '4', {'relation': 'neighbour'}), ('10', '8', {'relation': 'neighbour'}), ('4', '8', {'relation': 'neighbour'})])"
            ]
          },
          "execution_count": 3,
          "metadata": {},
          "output_type": "execute_result"
        }
      ],
      "source": [
        "vertices_list = ['1','2','3','4','5','6','7','8','9','10']\n",
        "G=nx.Graph()\n",
        "G.add_edge('1','2',relation=\"neighbour\")\n",
        "G.add_edge('1','3',relation=\"neighbour\")\n",
        "G.add_edge('1','5',relation=\"neighbour\")\n",
        "G.add_edge('1','6',relation=\"neighbour\")\n",
        "G.add_edge('1','7',relation=\"neighbour\")\n",
        "G.add_edge('1','10',relation=\"neighbour\")\n",
        "\n",
        "G.add_edge('2','1',relation=\"neighbour\")\n",
        "G.add_edge('2','3',relation=\"neighbour\")\n",
        "G.add_edge('2','4',relation=\"neighbour\")\n",
        "G.add_edge('2','8',relation=\"neighbour\")\n",
        "G.add_edge('2','9',relation=\"neighbour\")\n",
        "G.add_edge('2','10',relation=\"neighbour\")\n",
        "\n",
        "G.add_edge('3','1',relation=\"neighbour\")\n",
        "G.add_edge('3','2',relation=\"neighbour\")\n",
        "G.add_edge('3','8',relation=\"neighbour\")\n",
        "G.add_edge('3','9',relation=\"neighbour\")\n",
        "G.add_edge('3','10',relation=\"neighbour\")\n",
        "\n",
        "G.add_edge('4','2',relation=\"neighbour\")\n",
        "G.add_edge('4','7',relation=\"neighbour\")\n",
        "G.add_edge('4','8',relation=\"neighbour\")\n",
        "G.add_edge('4','10',relation=\"neighbour\")\n",
        "\n",
        "G.add_edge('5','1',relation=\"neighbour\")\n",
        "G.add_edge('5','6',relation=\"neighbour\")\n",
        "G.add_edge('5','9',relation=\"neighbour\")\n",
        "G.add_edge('5','10',relation=\"neighbour\")\n",
        "\n",
        "G.add_edge('6','1',relation=\"neighbour\")\n",
        "G.add_edge('6','5',relation=\"neighbour\")\n",
        "G.add_edge('6','8',relation=\"neighbour\")\n",
        "G.add_edge('6','9',relation=\"neighbour\")\n",
        "\n",
        "G.add_edge('7','1',relation=\"neighbour\")\n",
        "G.add_edge('7','4',relation=\"neighbour\")\n",
        "G.add_edge('7','9',relation=\"neighbour\")\n",
        "G.add_edge('7','10',relation=\"neighbour\")\n",
        "\n",
        "G.add_edge('8','2',relation=\"neighbour\")\n",
        "G.add_edge('8','3',relation=\"neighbour\")\n",
        "G.add_edge('8','4',relation=\"neighbour\")\n",
        "G.add_edge('8','6',relation=\"neighbour\")\n",
        "\n",
        "G.add_edge('9','2',relation=\"neighbour\")\n",
        "G.add_edge('9','3',relation=\"neighbour\")\n",
        "G.add_edge('9','5',relation=\"neighbour\")\n",
        "G.add_edge('9','6',relation=\"neighbour\")\n",
        "G.add_edge('9','7',relation=\"neighbour\")\n",
        "\n",
        "G.add_edge('10','1',relation=\"neighbour\")\n",
        "G.add_edge('10','3',relation=\"neighbour\")\n",
        "G.add_edge('10','5',relation=\"neighbour\")\n",
        "G.add_edge('10','8',relation=\"neighbour\")\n",
        "G.add_edge('10','4',relation=\"neighbour\")\n",
        "G.add_edge('10','2',relation=\"neighbour\")\n",
        "G.add_edge('10','7',relation=\"neighbour\")\n",
        "G.edges(data=True)"
      ]
    },
    {
      "cell_type": "code",
      "execution_count": 4,
      "metadata": {},
      "outputs": [
        {
          "data": {
            "image/png": "[encoded data removed]",
            "text/plain": [
              "<Figure size 640x480 with 1 Axes>"
            ]
          },
          "metadata": {},
          "output_type": "display_data"
        }
      ],
      "source": [
        "nx.draw_networkx(G, pos=nx.circular_layout(G),with_labels=True)\n",
        "plt.show()"
      ]
    },
    {
      "attachments": {},
      "cell_type": "markdown",
      "metadata": {},
      "source": [
        "Adjancency Matrix"
      ]
    },
    {
      "cell_type": "code",
      "execution_count": 5,
      "metadata": {},
      "outputs": [
        {
          "name": "stdout",
          "output_type": "stream",
          "text": [
            "[[0 1 1 0 1 1 1 0 0 1]\n",
            " [1 0 1 1 0 0 0 1 1 1]\n",
            " [1 1 0 0 0 0 0 1 1 1]\n",
            " [0 1 0 0 0 0 1 1 0 1]\n",
            " [1 0 0 0 0 1 0 0 1 1]\n",
            " [1 0 0 0 1 0 0 1 1 0]\n",
            " [1 0 0 1 0 0 0 0 1 1]\n",
            " [0 1 1 1 0 1 0 0 0 1]\n",
            " [0 1 1 0 1 1 1 0 0 0]\n",
            " [1 1 1 1 1 0 1 1 0 0]]\n"
          ]
        }
      ],
      "source": [
        "A = nx.adjacency_matrix(G, nodelist=vertices_list)\n",
        "print(A.todense())"
      ]
    },
    {
      "attachments": {},
      "cell_type": "markdown",
      "metadata": {},
      "source": [
        "Degree Centrality"
      ]
    },
    {
      "cell_type": "code",
      "execution_count": 6,
      "metadata": {},
      "outputs": [
        {
          "name": "stdout",
          "output_type": "stream",
          "text": [
            "The Degree Centrality is \n",
            "{'1': 0.6666666666666666, '2': 0.6666666666666666, '3': 0.5555555555555556, '5': 0.4444444444444444, '6': 0.4444444444444444, '7': 0.4444444444444444, '10': 0.7777777777777777, '4': 0.4444444444444444, '8': 0.5555555555555556, '9': 0.5555555555555556}\n"
          ]
        }
      ],
      "source": [
        "print(\"The Degree Centrality is \")\n",
        "print(nx.degree_centrality(G))"
      ]
    },
    {
      "attachments": {},
      "cell_type": "markdown",
      "metadata": {},
      "source": [
        "No of Neighbours of 2"
      ]
    },
    {
      "cell_type": "code",
      "execution_count": 7,
      "metadata": {},
      "outputs": [
        {
          "name": "stdout",
          "output_type": "stream",
          "text": [
            "Number of Neighbours of Verticle 2:\n"
          ]
        },
        {
          "data": {
            "text/plain": [
              "AtlasView({'1': {'relation': 'neighbour'}, '3': {'relation': 'neighbour'}, '4': {'relation': 'neighbour'}, '8': {'relation': 'neighbour'}, '9': {'relation': 'neighbour'}, '10': {'relation': 'neighbour'}})"
            ]
          },
          "execution_count": 7,
          "metadata": {},
          "output_type": "execute_result"
        }
      ],
      "source": [
        "print(\"Number of Neighbours of Verticle 2:\")\n",
        "G['2']"
      ]
    },
    {
      "attachments": {},
      "cell_type": "markdown",
      "metadata": {},
      "source": [
        "Average Degree"
      ]
    },
    {
      "cell_type": "code",
      "execution_count": 8,
      "metadata": {},
      "outputs": [
        {
          "name": "stdout",
          "output_type": "stream",
          "text": [
            "Average degree of graph is:\n"
          ]
        },
        {
          "data": {
            "text/plain": [
              "5.0"
            ]
          },
          "execution_count": 8,
          "metadata": {},
          "output_type": "execute_result"
        }
      ],
      "source": [
        "total_nodes = len(vertices_list)\n",
        "#  Average Degree of Graph\n",
        "print(\"Average degree of graph is:\")\n",
        "2*G.number_of_edges() / float(total_nodes)"
      ]
    },
    {
      "attachments": {},
      "cell_type": "markdown",
      "metadata": {},
      "source": [
        "Density of the Graph"
      ]
    },
    {
      "cell_type": "code",
      "execution_count": 9,
      "metadata": {},
      "outputs": [
        {
          "name": "stdout",
          "output_type": "stream",
          "text": [
            "Density of graph is:\n"
          ]
        },
        {
          "data": {
            "text/plain": [
              "0.56"
            ]
          },
          "execution_count": 9,
          "metadata": {},
          "output_type": "execute_result"
        }
      ],
      "source": [
        "print(\"Density of graph is:\")\n",
        "round(nx.density(G),2)"
      ]
    },
    {
      "attachments": {},
      "cell_type": "markdown",
      "metadata": {},
      "source": [
        "Closeness Centrality of Node 10"
      ]
    },
    {
      "cell_type": "code",
      "execution_count": 10,
      "metadata": {},
      "outputs": [
        {
          "name": "stdout",
          "output_type": "stream",
          "text": [
            "Closeness Centrality of Node 10 is:\n"
          ]
        },
        {
          "data": {
            "text/plain": [
              "0.82"
            ]
          },
          "execution_count": 10,
          "metadata": {},
          "output_type": "execute_result"
        }
      ],
      "source": [
        "print(\"Closeness Centrality of Node 10 is:\");\n",
        "closeness_centrality = nx.closeness_centrality(G)\n",
        "round(closeness_centrality['10'],2)"
      ]
    },
    {
      "attachments": {},
      "cell_type": "markdown",
      "metadata": {},
      "source": [
        "Possible paths to reach 4 from 6, (min 5 path)"
      ]
    },
    {
      "cell_type": "code",
      "execution_count": 11,
      "metadata": {},
      "outputs": [
        {
          "name": "stdout",
          "output_type": "stream",
          "text": [
            "All the paths starting from Node 4 to 6 are:\n",
            "4->2->1->3->8->6\n",
            "4->2->1->3->8->10->5->6\n",
            "4->2->1->3->8->10->5->9->6\n",
            "4->2->1->3->8->10->7->9->5->6\n",
            "4->2->1->3->8->10->7->9->6\n",
            "4->2->1->3->9->5->6\n",
            "4->2->1->3->9->5->10->8->6\n",
            "4->2->1->3->9->6\n",
            "4->2->1->3->9->7->10->5->6\n",
            "4->2->1->3->9->7->10->8->6\n"
          ]
        }
      ],
      "source": [
        "print(\"All the paths starting from Node 4 to 6 are:\")\n",
        "path=nx.all_simple_paths(G,source='4',target='6')\n",
        "\n",
        "a = list(path)\n",
        "for i in range(10):\n",
        "    print((\"->\").join(a[i]))"
      ]
    },
    {
      "attachments": {},
      "cell_type": "markdown",
      "metadata": {},
      "source": [
        "Longest path between any two nodes"
      ]
    },
    {
      "cell_type": "code",
      "execution_count": 12,
      "metadata": {},
      "outputs": [
        {
          "name": "stdout",
          "output_type": "stream",
          "text": [
            "Longest Shortest path between any two nodes:\n",
            "['1']\n",
            "['1', '2']\n",
            "['1', '3']\n",
            "['1', '2', '4']\n",
            "(3, ['1', '2', '4'])\n"
          ]
        }
      ],
      "source": [
        "def max_length_list(input_list):\n",
        "    max_length = max(len(x) for x in input_list )\n",
        "    for i in input_list:\n",
        "      print(i)\n",
        "      if len(i) == max_length:\n",
        "        return(max_length,i)\n",
        "ShortestPaths=[]    \n",
        "print(\"Longest Shortest path between any two nodes:\");\n",
        "for i in range(total_nodes) :\n",
        "  for j in range(total_nodes):\n",
        "    ShortestPaths.append(nx.shortest_path(G,source=vertices_list[i],target=vertices_list[j]))\n",
        "print(max_length_list(ShortestPaths))"
      ]
    },
    {
      "attachments": {},
      "cell_type": "markdown",
      "metadata": {},
      "source": [
        "Betweeness Centrality of Node 1"
      ]
    },
    {
      "cell_type": "code",
      "execution_count": 13,
      "metadata": {},
      "outputs": [
        {
          "name": "stdout",
          "output_type": "stream",
          "text": [
            "The Betweenness Centrality is \n"
          ]
        },
        {
          "data": {
            "text/plain": [
              "0.09"
            ]
          },
          "execution_count": 13,
          "metadata": {},
          "output_type": "execute_result"
        }
      ],
      "source": [
        "print(\"The Betweenness Centrality is \")\n",
        "round(nx.betweenness_centrality(G)['1'],2)"
      ]
    },
    {
      "attachments": {},
      "cell_type": "markdown",
      "metadata": {},
      "source": [
        "Eigen vector centrality of all node using power Iteration method"
      ]
    },
    {
      "cell_type": "code",
      "execution_count": 14,
      "metadata": {},
      "outputs": [
        {
          "name": "stdout",
          "output_type": "stream",
          "text": [
            "The Eigen Vector Centrality is \n",
            "{'10': 0.4186404002649102, '2': 0.38240345398629105, '1': 0.36248715040243285, '3': 0.3396078330961079, '8': 0.3159802808874201, '9': 0.2817654001541297, '4': 0.264743644575059, '7': 0.255993763240622, '5': 0.24994025374803494, '6': 0.23334520757872415}\n",
            "The Most Influential Node is \n",
            "('10', 0.4186404002649102)\n"
          ]
        }
      ],
      "source": [
        "print(\"The Eigen Vector Centrality is \")\n",
        "d=nx.eigenvector_centrality(G,45)\n",
        "sorted_dict = dict(sorted(d.items(), key=lambda item: item[1], reverse=True))\n",
        "print(sorted_dict)\n",
        "first_item = next(iter(sorted_dict.items()))\n",
        "print(\"The Most Influential Node is \")\n",
        "print(first_item)"
      ]
    },
    {
      "attachments": {},
      "cell_type": "markdown",
      "metadata": {},
      "source": [
        "PART B"
      ]
    },
    {
      "cell_type": "code",
      "execution_count": 15,
      "metadata": {
        "colab": {
          "base_uri": "https://localhost:8080/",
          "height": 352
        },
        "id": "DWLL3gnBG_HC",
        "outputId": "7bc04c9e-cd53-47f6-968d-c92ca2d82906"
      },
      "outputs": [
        {
          "name": "stdout",
          "output_type": "stream",
          "text": [
            "[[2 1 2 1 0 0]\n",
            " [1 2 2 0 0 0]\n",
            " [2 2 3 1 0 0]\n",
            " [1 0 1 2 0 0]\n",
            " [0 0 0 0 1 0]\n",
            " [0 0 0 0 0 0]]\n"
          ]
        },
        {
          "data": {
            "image/png": "[encoded data removed]",
            "text/plain": [
              "<Figure size 640x480 with 1 Axes>"
            ]
          },
          "metadata": {},
          "output_type": "display_data"
        }
      ],
      "source": [
        "G=nx.DiGraph()\n",
        "v=[\"N1\",\"N2\",\"N3\",\"N4\",\"N5\"]\n",
        "G.add_nodes_from(v)\n",
        "G.add_edge(\"N1\",\"N2\",relation=\"neighbour\")\n",
        "G.add_edge(\"N1\",\"N3\",relation=\"neighbour\")\n",
        "G.add_edge(\"N2\",\"N4\",relation=\"neighbour\")\n",
        "G.add_edge(\"N2\",\"N3\",relation=\"neighbour\")\n",
        "G.add_edge(\"N2\",\"N6\",relation=\"neighbour\")\n",
        "G.add_edge(\"N2\",\"N4\",relation=\"neighbour\")\n",
        "G.add_edge(\"N2\",\"N1\",relation=\"neighbour\")\n",
        "G.add_edge(\"N3\",\"N4\",relation=\"neighbour\")\n",
        "G.add_edge(\"N4\",\"N5\",relation=\"neighbour\")\n",
        "G.add_edge(\"N4\",\"N6\",relation=\"neighbour\")\n",
        "G.add_edge(\"N2\",\"N3\",relation=\"neighbour\")\n",
        "G.add_edge(\"N5\",\"N1\",relation=\"neighbour\")\n",
        "G.add_edge(\"N5\",\"N2\",relation=\"neighbour\")\n",
        "G.add_edge(\"N5\",\"N3\",relation=\"neighbour\")\n",
        "G.add_edge(\"N5\",\"N6\",relation=\"neighbour\")\n",
        "A=nx.adjacency_matrix(G,nodelist=v)\n",
        "nx.draw_networkx(G, pos=nx.circular_layout(G), arrows=True, with_labels=True)\n",
        "adj=np.array(A.todense())\n",
        "newrow=[0]*5\n",
        "newcol=[0]*6\n",
        "adj= np.vstack([adj, newrow])\n",
        "zeroes_column = np.zeros((adj.shape[0], 1), dtype=int)\n",
        "adj = np.hstack((adj, zeroes_column))\n",
        "adj_t=adj.transpose()\n",
        "res=np.dot(adj_t,adj)\n",
        "adj[4][5]=1\n",
        "print(res)\n"
      ]
    },
    {
      "cell_type": "code",
      "execution_count": 16,
      "metadata": {
        "colab": {
          "base_uri": "https://localhost:8080/"
        },
        "id": "SKwKzn0EMyVN",
        "outputId": "03ef3dd8-d4de-4727-e80a-692da6f4ebb4"
      },
      "outputs": [
        {
          "name": "stdout",
          "output_type": "stream",
          "text": [
            "Adjacency Matrix is \n",
            "[[0 1 1 0 0 0]\n",
            " [1 0 1 1 0 0]\n",
            " [0 0 0 1 0 0]\n",
            " [0 0 0 0 1 0]\n",
            " [1 1 1 0 0 1]\n",
            " [0 0 0 0 0 0]]\n",
            "Co Citation Matrix is \n",
            "[[2 1 2 1 0 0]\n",
            " [1 2 2 0 0 0]\n",
            " [2 2 3 1 0 0]\n",
            " [1 0 1 2 0 0]\n",
            " [0 0 0 0 1 0]\n",
            " [0 0 0 0 0 0]]\n",
            "-----------------------------------------------------\n",
            " For Vertices (1,3) the Pair is (2,5)\n",
            " For Vertices (2,3) the Pair is (1,5)\n"
          ]
        }
      ],
      "source": [
        "print(\"Adjacency Matrix is \")\n",
        "print(adj)\n",
        "#Co Citation Matrix\n",
        "l=list()\n",
        "for i in range(len(res)):\n",
        "  for j in range(len(res)):\n",
        "    if(i==j):\n",
        "      continue\n",
        "    if(res[i][j]>1):\n",
        "      if(i<j):\n",
        "        l.append([i,j])\n",
        "    else:\n",
        "      pass\n",
        "print(\"Co Citation Matrix is \")\n",
        "print(res)\n",
        "print(\"-----------------------------------------------------\")\n",
        "for i in l:\n",
        "  f=i[0]\n",
        "  r=i[1]\n",
        "  temp=[]\n",
        "  for j in range(len(adj)):\n",
        "    if(adj[j][f]==1 and adj[j][r]==1):\n",
        "      temp.append(j+1)\n",
        "  print(\" For Vertices ({},{}) the Pair is ({},{})\".format(f+1,r+1,temp[0],temp[1]))\n",
        "\n",
        "\n",
        "    \n"
      ]
    },
    {
      "cell_type": "code",
      "execution_count": 17,
      "metadata": {
        "colab": {
          "base_uri": "https://localhost:8080/"
        },
        "id": "VnpyqItvqwlm",
        "outputId": "68b3ace0-4f78-4874-b3de-911fa4f9f40e"
      },
      "outputs": [
        {
          "name": "stdout",
          "output_type": "stream",
          "text": [
            "BiblioGraphic Coupling Matrix is \n",
            "[[2 1 0 0 2 0]\n",
            " [1 3 1 0 2 0]\n",
            " [0 1 1 0 0 0]\n",
            " [0 0 0 1 0 0]\n",
            " [2 2 0 0 4 0]\n",
            " [0 0 0 0 0 0]]\n",
            "-----------------------------------------------------\n",
            " For Vertices (1,5) the Pair is (2,3)\n",
            " For Vertices (2,5) the Pair is (1,3)\n"
          ]
        }
      ],
      "source": [
        "# For BiblioGraphy Matrix\n",
        "ans=np.dot(adj,adj_t)\n",
        "print(\"BiblioGraphic Coupling Matrix is \")\n",
        "print(ans)\n",
        "print(\"-----------------------------------------------------\")\n",
        "l2=list()\n",
        "for i in range(len(ans)):\n",
        "  for j in range(len(ans)):\n",
        "    if(i==j):\n",
        "      continue\n",
        "    if(ans[i][j]>1):\n",
        "      #Symmetric\n",
        "      if(i<j):\n",
        "        l2.append([i,j])\n",
        "    else:\n",
        "      pass\n",
        "for i in l2:\n",
        "  f=i[0]\n",
        "  r=i[1]\n",
        "  temp=[]\n",
        "  for j in range(len(adj)):\n",
        "    if(adj[f][j]==1 and adj[r][j]==1):\n",
        "      temp.append(j+1)\n",
        "  print(\" For Vertices ({},{}) the Pair is ({},{})\".format(f+1,r+1,temp[0],temp[1]))\n",
        "\n",
        "    \n"
      ]
    }
  ],
  "metadata": {
    "colab": {
      "provenance": []
    },
    "kernelspec": {
      "display_name": "Python 3",
      "language": "python",
      "name": "python3"
    },
    "language_info": {
      "codemirror_mode": {
        "name": "ipython",
        "version": 3
      },
      "file_extension": ".py",
      "mimetype": "text/x-python",
      "name": "python",
      "nbconvert_exporter": "python",
      "pygments_lexer": "ipython3",
      "version": "3.10.5"
    },
    "vscode": {
      "interpreter": {
        "hash": "aefb8f425c96f33eba64b27e340694185e828f19562f8f40b86ace482095f222"
      }
    }
  },
  "nbformat": 4,
  "nbformat_minor": 0
}

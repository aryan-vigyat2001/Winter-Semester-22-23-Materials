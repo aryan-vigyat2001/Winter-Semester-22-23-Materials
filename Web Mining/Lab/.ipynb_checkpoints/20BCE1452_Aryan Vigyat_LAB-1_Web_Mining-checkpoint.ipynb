{
 "cells": [
  {
   "cell_type": "markdown",
   "id": "a3a0900b",
   "metadata": {},
   "source": [
    "<h2 align=\"right \">Name  : Aryan Vigyat</h2><h2 align=\"right\">Registration Number : 20BCE1452</h2><p style=\"color:red;font-size:25px\"> Question 1:</p>  <br><b style=\"font-size:18px\">Given a seed/root URL, e.g., \"Vit.ac.in\", Design a simple crawler to return all pages (URLs) that contains a keyword \"research\" from this site. (25 pages) </b>"
   ]
  },
  {
   "cell_type": "code",
   "execution_count": 4,
   "id": "3b4b7d09",
   "metadata": {},
   "outputs": [
    {
     "name": "stdout",
     "output_type": "stream",
     "text": [
      "Response Status Code : 200\n",
      "The Links in the SEED URL Page which consists of the word research are as follows\n",
      "\t https://vit.ac.in/admissions/research\n",
      "\t https://vit.ac.in/research\n",
      "\t https://vit.ac.in/research\n",
      "\t https://vit.ac.in/research/academic\n",
      "\t https://vit.ac.in/research/sponsored-research\n",
      "\t https://vit.ac.in/research/centers-list\n",
      "\t https://vit.ac.in/schools-centres-list-research-guides-2022\n",
      "\t 3d-printing-play-major-role-mitigating-spread-covid-19-say-researchers-vit\n",
      "\t 3d-printing-play-major-role-mitigating-spread-covid-19-say-researchers-vit\n",
      "\t https://vit.ac.in/research\n"
     ]
    }
   ],
   "source": [
    "import re\n",
    "from bs4 import BeautifulSoup as soup\n",
    "import requests\n",
    "seed_url=\"http://www.vit.ac.in\"\n",
    "searchWord=\"research\"\n",
    "maxPages=25\n",
    "response=requests.get(seed_url)\n",
    "print(\"Response Status Code :\",response.status_code)\n",
    "rootPage=soup(response.content,'html.parser')\n",
    "atags=rootPage.find_all('a')\n",
    "result=list()\n",
    "pages=0\n",
    "for atag in atags:\n",
    "    if(pages==maxPages):\n",
    "        break\n",
    "    link=atag['href']\n",
    "    if re.search(searchWord,link,re.IGNORECASE):\n",
    "        result.append(link)\n",
    "        pages+=1\n",
    "        \n",
    "print(\"The Links in the SEED URL Page which consists of the word research are as follows\")\n",
    "for res in result:\n",
    "    print(\"\\t\",res)"
   ]
  },
  {
   "cell_type": "markdown",
   "id": "1605ac35",
   "metadata": {},
   "source": [
    "<p style=\"color:red;font-size:25px\"> Question 2:</p>  <br><b style=\"font-size:18px\">Find documents that contain the word “admissions” and the word “international” within the URL “Vit.ac.in” using Python. (25 pages) </b>"
   ]
  },
  {
   "cell_type": "code",
   "execution_count": 5,
   "id": "46adaef0",
   "metadata": {},
   "outputs": [
    {
     "name": "stdout",
     "output_type": "stream",
     "text": [
      "Response Status Code : 200\n",
      "Total Number of Documents is 166\n"
     ]
    },
    {
     "name": "stderr",
     "output_type": "stream",
     "text": [
      "C:\\Users\\ayuar\\AppData\\Local\\Programs\\Python\\Python310\\lib\\site-packages\\urllib3\\connectionpool.py:1045: InsecureRequestWarning: Unverified HTTPS request is being made to host 'chennai.vit.ac.in'. Adding certificate verification is strongly advised. See: https://urllib3.readthedocs.io/en/1.26.x/advanced-usage.html#ssl-warnings\n",
      "  warnings.warn(\n"
     ]
    },
    {
     "name": "stdout",
     "output_type": "stream",
     "text": [
      "The Documents that Contain the Words Admission and International is \n",
      "\t https://vitap.ac.in/\n",
      "\t https://vitbhopal.ac.in/\n",
      "\t https://vit.ac.in\n",
      "\t https://vit.ac.in/about-vit\n",
      "\t https://vit.ac.in/about/vision-mission\n",
      "\t https://vit.ac.in/vit-milestones\n",
      "\t https://vit.ac.in/about/leadership\n",
      "\t https://vit.ac.in/governance\n",
      "\t https://vit.ac.in/about/administrative-offices\n",
      "\t https://vit.ac.in/about/infrastructure\n",
      "\t https://vit.ac.in/about/sustainability\n",
      "\t https://vit.ac.in/true-green\n",
      "\t https://vit.ac.in/about/community-outreach\n",
      "\t https://vit.ac.in/about/communityradio\n",
      "\t https://vit.ac.in/all-news-archieved\n",
      "\t https://vit.ac.in/all-events\n",
      "\t https://vit.ac.in/national-institutional-ranking-framework-nirf\n",
      "\t https://vit.ac.in/mhrdugcaicte\n",
      "\t https://vit.ac.in/about/news-letter\n",
      "\t https://vit.ac.in/academics/home\n",
      "\t https://vit.ac.in/programmes-offered-1\n",
      "\t https://vit.ac.in/programmes-offered-2021-22\n",
      "\t https://vit.ac.in/programmes-offered-2020-21\n",
      "\t https://vit.ac.in/schools\n"
     ]
    }
   ],
   "source": [
    "import requests \n",
    "from bs4 import BeautifulSoup as soup\n",
    "import re \n",
    "seed_URL = \"http://www.vit.ac.in\" \n",
    "searchWords = ['admissions', 'international']\n",
    "maxPages=25\n",
    "response=requests.get(seed_URL)\n",
    "print(\"Response Status Code :\",response.status_code)\n",
    "rootPage=soup(response.content,'html.parser')\n",
    "atags=rootPage.find_all('a')\n",
    "validLinks=list()\n",
    "for atag in atags:\n",
    "    link=atag['href']\n",
    "    if link.startswith(\"http\") : \n",
    "        if link not in validLinks : \n",
    "            validLinks.append(link) \n",
    "print(\"Total Number of Documents is {}\".format(len(validLinks)))\n",
    "final=list()\n",
    "foundPages=0\n",
    "failed=list()\n",
    "pages=0\n",
    "for link in validLinks : \n",
    "    if(pages==maxPages):\n",
    "        break\n",
    "    try : \n",
    "        page = requests.get(link).text \n",
    "    except requests.ConnectionError :\n",
    "        try : \n",
    "            page = requests.get(link, verify=False).text \n",
    "        except : \n",
    "            failed.append(link) \n",
    "        continue \n",
    "    if (re.search(searchWords[0], page, re.IGNORECASE)) and (re.search(searchWords[1], page, re.IGNORECASE)) : \n",
    "        final.append(link)\n",
    "        foundPages+=1\n",
    "    pages+=1\n",
    "print(\"The Documents that Contain the Words Admission and International is \")\n",
    "for i in final:\n",
    "    print(\"\\t\",i)"
   ]
  },
  {
   "cell_type": "markdown",
   "id": "c1367bc1",
   "metadata": {},
   "source": [
    "<p style=\"color:red;font-size:25px\"> Question 3:</p>  <br><b style=\"font-size:18px\">Find documents that contain the word “Programme” but not the word “programming” within the URL “Vit.ac.in” using Python. (5 pages) </b>"
   ]
  },
  {
   "cell_type": "code",
   "execution_count": 6,
   "id": "2757a544",
   "metadata": {
    "scrolled": false
   },
   "outputs": [
    {
     "name": "stdout",
     "output_type": "stream",
     "text": [
      "Response Status Code : 200\n",
      "Total Number of Documents Linked to the Root URL is 166\n"
     ]
    },
    {
     "name": "stderr",
     "output_type": "stream",
     "text": [
      "C:\\Users\\ayuar\\AppData\\Local\\Programs\\Python\\Python310\\lib\\site-packages\\urllib3\\connectionpool.py:1045: InsecureRequestWarning: Unverified HTTPS request is being made to host 'chennai.vit.ac.in'. Adding certificate verification is strongly advised. See: https://urllib3.readthedocs.io/en/1.26.x/advanced-usage.html#ssl-warnings\n",
      "  warnings.warn(\n"
     ]
    },
    {
     "name": "stdout",
     "output_type": "stream",
     "text": [
      "The Documents that Contain the Word Programme and not Programming is \n",
      "\t https://vitap.ac.in/\n",
      "\t https://vitbhopal.ac.in/\n",
      "\t https://vit.ac.in\n",
      "\t https://vit.ac.in/about-vit\n",
      "\t https://vit.ac.in/about/vision-mission\n"
     ]
    }
   ],
   "source": [
    "import re\n",
    "from bs4 import BeautifulSoup as soup\n",
    "import requests\n",
    "seedURL=\"http://vit.ac.in\"\n",
    "searchWords=['Programme','Programming']\n",
    "response=requests.get(seedURL)\n",
    "maxPages=5\n",
    "print(\"Response Status Code :\",response.status_code)\n",
    "rootPage=soup(response.content,'html.parser')\n",
    "atags=rootPage.find_all('a')\n",
    "validLinks=list()\n",
    "for atag in atags:\n",
    "    link=atag['href']\n",
    "    if link.startswith(\"http\") : \n",
    "        if link not in validLinks : \n",
    "            validLinks.append(link) \n",
    "print(\"Total Number of Documents Linked to the Root URL is {}\".format(len(validLinks)))\n",
    "final=list()\n",
    "foundPages=0\n",
    "failed=list()\n",
    "pages=0\n",
    "for link in validLinks : \n",
    "    if(pages==maxPages):\n",
    "        break\n",
    "    try : \n",
    "        page = requests.get(link).text \n",
    "    except requests.ConnectionError :\n",
    "        try : \n",
    "            page = requests.get(link, verify=False).text \n",
    "        except : \n",
    "            failed.append(link) \n",
    "        continue \n",
    "    if (re.search(searchWords[0], page, re.IGNORECASE)) and (not re.search(searchWords[1], page, re.IGNORECASE)) : \n",
    "        final.append(link)\n",
    "        foundPages+=1\n",
    "    pages+=1\n",
    "print(\"The Documents that Contain the Word Programme and not Programming is \")\n",
    "for i in final:\n",
    "    print(\"\\t\",i)\n"
   ]
  },
  {
   "cell_type": "markdown",
   "id": "314038f1",
   "metadata": {},
   "source": [
    "<p style=\"color:red;font-size:25px\"> Question 4:</p>  <br><b style=\"font-size:18px\">Write a web crawler program which takes as input a url (Educational website) and a search key word and maximum number of pages (15-20 Pages)  to be searched and returns as output all the web pages it searched till it found the search word on a web page or return failure. </b>"
   ]
  },
  {
   "cell_type": "code",
   "execution_count": 7,
   "id": "6ccd160d",
   "metadata": {},
   "outputs": [
    {
     "name": "stdout",
     "output_type": "stream",
     "text": [
      "Enter the Input URL:https://pes.edu/\n",
      "Enter the Search Word: campus\n",
      "Enter the Max Pages:19\n",
      "Status of the response :  200\n",
      "Total Number of Documents is 66\n",
      "The Documents that Contain the Word campus is \n",
      "\t https://pessat.com/\n",
      "\t https://pessat.com\n",
      "\t https://pes.edu/btech/\n",
      "\t https://pes.edu/programs/\n",
      "\t https://pes.edu/scholarships/\n",
      "\t https://pes.edu/placements/\n",
      "\t https://news.pes.edu/\n",
      "\t https://news.pes.edu/11033\n",
      "\t https://news.pes.edu/11031\n",
      "\t https://news.pes.edu/11032\n",
      "\t https://events.pes.edu/\n",
      "\t https://events.pes.edu/10657#new_tab\n",
      "\t https://www.youtube.com/watch?v=5PllbH06p50\n",
      "\t https://pes.edu/bca\n",
      "\t https://pes.edu/tag/new/\n",
      "\t https://pes.edu/tag/undergraduate/\n",
      "\t https://pes.edu/bscmedical\n",
      "\t https://pes.edu/bsceconomics\n",
      "\t https://pes.edu/law/\n"
     ]
    }
   ],
   "source": [
    "import re\n",
    "from bs4 import BeautifulSoup as soup\n",
    "import requests\n",
    "seedURL4 = input(\"Enter the Input URL:\") \n",
    "searchWord = input(\"Enter the Search Word: \") \n",
    "maxPages = int(input(\"Enter the Max Pages:\")) \n",
    "response = requests.get(seedURL4) \n",
    "print(\"Status of the response : \", response.status_code) \n",
    "rootPage=soup(response.content,'html.parser')\n",
    "atags=rootPage.find_all('a')\n",
    "validLinks=list()\n",
    "for atag in atags:\n",
    "    try:\n",
    "        link=atag['href']\n",
    "        if link.startswith(\"http\") : \n",
    "            if link not in validLinks : \n",
    "                validLinks.append(link) \n",
    "    except:\n",
    "        pass\n",
    "print(\"Total Number of Documents is {}\".format(len(validLinks)))\n",
    "final=list()\n",
    "foundPages=0\n",
    "failed=list()\n",
    "pages=0\n",
    "for link in validLinks : \n",
    "    if(pages==maxPages):\n",
    "        break\n",
    "    try : \n",
    "        page = requests.get(link).text \n",
    "    except requests.ConnectionError :\n",
    "        try : \n",
    "            page = requests.get(link, verify=False).text \n",
    "        except : \n",
    "            failed.append(link) \n",
    "        continue \n",
    "    if (re.search(searchWord, page, re.IGNORECASE)):\n",
    "        final.append(link)\n",
    "        foundPages+=1\n",
    "    pages+=1\n",
    "if(foundPages==0):\n",
    "    print(\"Failure\")\n",
    "else:\n",
    "    print(\"The Documents that Contain the Word {} is \".format(searchWord))\n",
    "    for i in final:\n",
    "        print(\"\\t\",i)\n",
    "    "
   ]
  },
  {
   "cell_type": "markdown",
   "id": "5c8afaaf",
   "metadata": {},
   "source": [
    "<br><p style=\"color:red;font-size:30px\"> Question 5:</p>  <br><b style=\"font-size:18px\">Write a Python program to read the given website and extract the phone numbers and emails and contact addresses from Chennai, Amaravathi, Bhopal vit website. (5 Marks) </b>"
   ]
  },
  {
   "cell_type": "code",
   "execution_count": 12,
   "id": "b4d0d9e3",
   "metadata": {},
   "outputs": [
    {
     "name": "stderr",
     "output_type": "stream",
     "text": [
      "C:\\Users\\ayuar\\AppData\\Local\\Programs\\Python\\Python310\\lib\\site-packages\\urllib3\\connectionpool.py:1045: InsecureRequestWarning: Unverified HTTPS request is being made to host 'vitap.ac.in'. Adding certificate verification is strongly advised. See: https://urllib3.readthedocs.io/en/1.26.x/advanced-usage.html#ssl-warnings\n",
      "  warnings.warn(\n"
     ]
    },
    {
     "name": "stdout",
     "output_type": "stream",
     "text": [
      "Status of the response :  200\n"
     ]
    },
    {
     "name": "stderr",
     "output_type": "stream",
     "text": [
      "C:\\Users\\ayuar\\AppData\\Local\\Programs\\Python\\Python310\\lib\\site-packages\\urllib3\\connectionpool.py:1045: InsecureRequestWarning: Unverified HTTPS request is being made to host 'vitbhopal.ac.in'. Adding certificate verification is strongly advised. See: https://urllib3.readthedocs.io/en/1.26.x/advanced-usage.html#ssl-warnings\n",
      "  warnings.warn(\n"
     ]
    },
    {
     "name": "stdout",
     "output_type": "stream",
     "text": [
      "Status of the response :  200\n"
     ]
    },
    {
     "name": "stderr",
     "output_type": "stream",
     "text": [
      "C:\\Users\\ayuar\\AppData\\Local\\Programs\\Python\\Python310\\lib\\site-packages\\urllib3\\connectionpool.py:1045: InsecureRequestWarning: Unverified HTTPS request is being made to host 'chennai.vit.ac.in'. Adding certificate verification is strongly advised. See: https://urllib3.readthedocs.io/en/1.26.x/advanced-usage.html#ssl-warnings\n",
      "  warnings.warn(\n"
     ]
    },
    {
     "name": "stdout",
     "output_type": "stream",
     "text": [
      "Status of the response :  200\n",
      "-------https://vitap.ac.in/ Email IDS and Phone Number-------\n",
      "7868934148 7868934148 7868934148 7797590012 9520281387\n",
      "-------https://vitbhopal.ac.in/ Email IDS and Phone Number-------\n",
      "info@vitbhopal.ac.in placement@vitbhopal.ac.in admissions@vitbhopal.ac.in wardenmh@vitbhopal.ac.in wardenlh@vitbhopal.ac.in9662422233 8194455437 8262477098 8876659932 7795006127 8612877226 7709999738 7986318372 8845910171 8876348337 8945379300 8945479108 8612870136 8845918969 8845910863 8845911379 8845911923 8194455437 8262477098 8876348337 8945379300 8945479108 8876659932 7795006127 8612877226 8612870136 7709999738 8061303498 8061303498 7035880534 8864788979 7035880534 8864788979 7035880534 8864788979 7035880534 8864788979 7035880534 8864788979 7035880534 8864788979 8061303498 8264704521 8264704521 8551857321 7465352127 7174252163 7465352127 7174252163 7465352127 7174252163 7465352127 7174252163 7465352127 7174252163 7465352127 7174252163 7979272149 7979272149 8728174513 9344318998 9344318998 9344318998 9344318998 9344318998 9344318998 7906040746 7906040746 9568028126 8286208450 7317899495 8286208450 7317899495 8286208450 7317899495 8286208450 7317899495 8286208450 7317899495 8286208450 7317899495 8150108223 8150108223 8797830589 8318240920 9602035035 8318240920 9602035035 8318240920 9602035035 8318240920 9602035035 8318240920 9602035035 8318240920 9602035035 7977097410 7977097410 7662683301 9741738558 8399911470 9741738558 8399911470 9741738558 8399911470 9741738558 8399911470 9741738558 8399911470 9741738558 8399911470 8324916849 8324916849 9672133224 8482824318 9672133224 8482824318 9672133224 8482824318 9672133224 8482824318 9672133224 8482824318 9672133224 8482824318 8324916849 8113170000 7729692478 7397009434 9618935664 9260750302 7217597803 7075121594 9065360540 9275123713 8756951133 8955924605 9158682827 9655273119 8113170000 7729692478 7729692478 7729692478 7729692478 7729692478 7729692478 7939801444 8213782599 7254431471 8503397689 7710044413 7859852193 7528554828 8246052324 7107344378 9287253478 9906576570 8377194160 8351581336 7089927560 8180286903 8443864678 8797978927 7939801444 8213782599 7254431471 8213782599 7254431471 8213782599 7254431471 8213782599 7254431471 8213782599 7254431471 8213782599 7254431471 7979757306 7979757306 8110484234 7831648607 8110484234 7831648607 8110484234 7831648607 8110484234 7831648607 8110484234 7831648607 8110484234 7831648607 7979757306 7997123712 7997123712 8061489449 8187953360 8061489449 8187953360 8061489449 8187953360 8061489449 8187953360 8061489449 8187953360 8061489449 8187953360 7997123712 7953510457 7953510457 8358086840 7958327780 8358086840 7958327780 8358086840 7958327780 8358086840 7958327780 8358086840 7958327780 8358086840 7958327780 7953510457 7926112081 7926112081 8941056685 7563129879 8941056685 7563129879 8941056685 7563129879 8941056685 7563129879 8941056685 7563129879 8941056685 7563129879 7926112081 7893933214 7893933214 7998754603 9141007060 7998754603 9141007060 7998754603 9141007060 7998754603 9141007060 7998754603 9141007060 7998754603 9141007060 7893933214 7888279366 7888279366 7078686666 9281519859 7078686666 9281519859 7078686666 9281519859 7078686666 9281519859 7078686666 9281519859 7078686666 9281519859 7888279366 7892372833 7892372833 7097665995 9446229641 7097665995 9446229641 7097665995 9446229641 7097665995 9446229641 7097665995 9446229641 7097665995 9446229641 7892372833 7968996840 7968996840 7496227456 8514161077 7496227456 8514161077 7496227456 8514161077 7496227456 8514161077 7496227456 8514161077 7496227456 8514161077 7968996840 7974585219 7974585219 9986160257 7917539790 9986160257 7917539790 9986160257 7917539790 9986160257 7917539790 9986160257 7917539790 9986160257 7917539790 7974585219 8312719179 8851818198 9034194288 9216018669 9344396816 8998725771 7553521655 8435424529 8213626783 8312719179 8851818198 9034194288 8851818198 9034194288 8851818198 9034194288 8851818198 9034194288 8851818198 9034194288 8851818198 9034194288 7970312688 7970312688 7884614597 7449419967 7884614597 7449419967 7884614597 7449419967 7884614597 7449419967 7884614597 7449419967 7884614597 7449419967 7970312688 7970312688 7884614597 7449419967 8312719179 8851818198 9034194288 7968996840 7496227456 8514161077 7974585219 9986160257 7917539790 7892372833 7097665995 9446229641 7888279366 7078686666 9281519859 7926112081 8941056685 7563129879 7893933214 7998754603 9141007060 7953510457 8358086840 7958327780 7979757306 8110484234 7831648607 7997123712 8061489449 8187953360 8324916849 9672133224 8482824318 8113170000 7729692478 7939801444 8213782599 7254431471 8264704521 7465352127 7174252163 7979272149 9344318998 7906040746 8286208450 7317899495 8150108223 8318240920 9602035035 7977097410 9741738558 8399911470 8061303498 7035880534 8864788979 7986318372 8845910171 8845918969 8845910863 8845911379 8845911923 9212651252\n",
      "-------https://chennai.vit.ac.in/ Email IDS and Phone Number-------\n",
      "cw.cc@vit.ac.in wlh.cc@vit.ac.in transport.cc@vit.ac.in cw.cc@vit.ac.in wlh.cc@vit.ac.in transport.cc@vit.ac.in admin.chennai@vit.ac.in8272122876 8272215041 8272239968 8272270359 8272298574 8659071608 8588684987 8679772278 8634261762 8634270077 9038225429 7121194580 8634261762 8588708437 8634261762 8588708437 8201114257 8201114257 8588708437 8588708437 8659971350 9315459946 8679772278 7358782569 8272122876 8634261762 9038225429 8634270077 7121194580 7358782569 8634261762 8272215041 8588708437 8272239968 8634261762 8272270359 8588708437 8272298574 8201114257 8201114257 8588708437 8659071608 8588708437 8659971350 9315459946 8588684987\n",
      "\n"
     ]
    }
   ],
   "source": [
    "import re\n",
    "from bs4 import BeautifulSoup as soup\n",
    "import requests\n",
    "seedURL5=[\"https://vitap.ac.in/\",\"https://vitbhopal.ac.in/\",\"https://chennai.vit.ac.in/\"]\n",
    "f = open(\"myfile.txt\", \"w\")\n",
    "for url in seedURL5:\n",
    "    response = requests.get(url,verify=False) \n",
    "    print(\"Status of the response : \", response.status_code) \n",
    "    rootPage=soup(response.content,'html.parser')\n",
    "    phpattern = re.compile(r'[7-9][0-9]{9}')\n",
    "    emailpattern=re.compile(r'\\b[A-Za-z0-9._%+-]+@[A-Za-z0-9.-]+\\.[A-Z|a-z]{2,}\\b')\n",
    "    phone_numbers=re.findall(phpattern,str(rootPage))\n",
    "    email_ids=re.findall(emailpattern,str(rootPage))\n",
    "    f.write(\"-------{} Email IDS and Phone Number-------\\n\".format(url))\n",
    "    f.write((' '.join(email_ids)))\n",
    "    f.write((' '.join(phone_numbers)))\n",
    "    f.write(\"\\n\")\n",
    "f.close()\n",
    "f2 = open(\"myfile.txt\", \"r\")\n",
    "print(f2.read())\n",
    "    "
   ]
  }
 ],
 "metadata": {
  "kernelspec": {
   "display_name": "Python 3 (ipykernel)",
   "language": "python",
   "name": "python3"
  },
  "language_info": {
   "codemirror_mode": {
    "name": "ipython",
    "version": 3
   },
   "file_extension": ".py",
   "mimetype": "text/x-python",
   "name": "python",
   "nbconvert_exporter": "python",
   "pygments_lexer": "ipython3",
   "version": "3.10.5"
  }
 },
 "nbformat": 4,
 "nbformat_minor": 5
}

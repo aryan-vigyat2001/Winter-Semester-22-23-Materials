{
 "cells": [
  {
   "cell_type": "code",
   "execution_count": null,
   "metadata": {},
   "outputs": [],
   "source": [
    "import re\n",
    "from bs4 import BeautifulSoup as soup\n",
    "import requests\n"
   ]
  }
 ],
 "metadata": {
  "kernelspec": {
   "display_name": "Python 3",
   "language": "python",
   "name": "python3"
  },
  "language_info": {
   "name": "python",
   "version": "3.10.5"
  },
  "orig_nbformat": 4,
  "vscode": {
   "interpreter": {
    "hash": "aefb8f425c96f33eba64b27e340694185e828f19562f8f40b86ace482095f222"
   }
  }
 },
 "nbformat": 4,
 "nbformat_minor": 2
}

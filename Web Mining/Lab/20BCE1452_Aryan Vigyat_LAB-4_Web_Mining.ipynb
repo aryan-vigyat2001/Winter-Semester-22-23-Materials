{
 "cells": [
  {
   "attachments": {},
   "cell_type": "markdown",
   "metadata": {},
   "source": [
    "<h1 align=\"center\">Web Mining Lab Assignment-4</h1>\n",
    "                                                                                                                                        <h3 align=\"right\">Aryan Vigyat</h3>\n",
    "                                                                                                            <h3 align=\"right\"> 20BCE1452</h3>"
   ]
  },
  {
   "attachments": {},
   "cell_type": "markdown",
   "metadata": {},
   "source": [
    "Question 1"
   ]
  },
  {
   "attachments": {},
   "cell_type": "markdown",
   "metadata": {},
   "source": [
    "Apply run length encoding for the following string and compress it"
   ]
  },
  {
   "cell_type": "code",
   "execution_count": null,
   "metadata": {},
   "outputs": [],
   "source": [
    "def encode(input_str):\n",
    "    n = len(input_str)\n",
    "    i = 0\n",
    "    result = \"\"\n",
    "    while i < n - 1:\n",
    "        count = 1\n",
    "        while (i < n - 1 and\n",
    "               input_str[i] == input_str[i + 1]):\n",
    "            count += 1\n",
    "            i += 1\n",
    "        result += input_str[i] + str(count)\n",
    "        i += 1\n",
    "    print(\"The Run Length Encoding of string\", input_str, \"=\", result)\n",
    "\n",
    "input_string = \"eeeeeeerrrrrrrrrrrrrrrrttttttttttttttiiiiiiiifffffeft\"\n",
    "encode(input_string)"
   ]
  },
  {
   "attachments": {},
   "cell_type": "markdown",
   "metadata": {},
   "source": [
    "Question 2"
   ]
  },
  {
   "attachments": {},
   "cell_type": "markdown",
   "metadata": {},
   "source": [
    "i. Apply Binary coding for term “Mercury” (apply for all doc ids)"
   ]
  },
  {
   "cell_type": "code",
   "execution_count": 1,
   "metadata": {},
   "outputs": [
    {
     "name": "stdout",
     "output_type": "stream",
     "text": [
      "The Binary Encoding for Planets is  1 10 11 111 1001 1010 "
     ]
    }
   ],
   "source": [
    "def to_binary(decimal_num):\n",
    "    binary = bin(decimal_num)\n",
    "    binary = binary[2:]\n",
    "    return binary\n",
    "\n",
    "print(\"The Binary Encoding for Planets is \", end=\" \")\n",
    "planets = [1, 2, 3, 7, 9, 10]\n",
    "for planet in planets:\n",
    "    print(to_binary(planet), end=\" \")\n"
   ]
  },
  {
   "attachments": {},
   "cell_type": "markdown",
   "metadata": {},
   "source": [
    "ii. Apply Unary coding for term “Fiber”"
   ]
  },
  {
   "cell_type": "code",
   "execution_count": null,
   "metadata": {},
   "outputs": [],
   "source": [
    "def to_unary(numbers):\n",
    "    for number in numbers:\n",
    "        unary_code = []\n",
    "        for i in range(number):\n",
    "            unary_code.append(1)\n",
    "        unary_code.append(0)\n",
    "        unary_code = [str(k) for k in unary_code]\n",
    "        unary_code = \"\".join(unary_code)\n",
    "        print(unary_code, end=\" \")\n",
    "\n",
    "elements = [1, 3, 5, 7, 19, 20]\n",
    "print(\"The Unary Coding for Elements is \", end=\" \")\n",
    "to_unary(elements)\n"
   ]
  },
  {
   "attachments": {},
   "cell_type": "markdown",
   "metadata": {},
   "source": [
    "iii. Apply Elias Gamma Encoding for term “Airtel”"
   ]
  },
  {
   "cell_type": "code",
   "execution_count": 8,
   "metadata": {},
   "outputs": [
    {
     "name": "stdout",
     "output_type": "stream",
     "text": [
      "The Elias Gamma Encoding for Companies is  0001100 000010001 000011001 000000010010100 000000010011100 000000010011111 000000010101100 "
     ]
    }
   ],
   "source": [
    "from math import log\n",
    "log2 = lambda x: log(x, 2)\n",
    "\n",
    "def unary_encode(x):\n",
    "    return (x-1)*'0'+'1'\n",
    "\n",
    "def binary_encode(x, l = 1):\n",
    "    s = '{0:0%db}' % l\n",
    "    return s.format(x)\n",
    "\n",
    "def elias_gamma(x):\n",
    "    if(x == 0):\n",
    "        return '0'\n",
    "    n = 1 + int(log2(x))\n",
    "    b = x - 2**(int(log2(x)))\n",
    "    l = int(log2(x))\n",
    "    return unary_encode(n) + binary_encode(b, l)\n",
    "\n",
    "companies = [12, 17, 25, 148, 156, 159, 172]\n",
    "print(\"The Elias Gamma Encoding for Companies is \", end=\" \")\n",
    "for company in companies:\n",
    "    print(elias_gamma(company), end=\" \")\n"
   ]
  },
  {
   "attachments": {},
   "cell_type": "markdown",
   "metadata": {},
   "source": [
    "v. Apply Elias Delta Encoding for term “Venus”"
   ]
  },
  {
   "cell_type": "code",
   "execution_count": 48,
   "metadata": {},
   "outputs": [
    {
     "name": "stdout",
     "output_type": "stream",
     "text": [
      "The Elias Delta Encoding for Venus is  001010111 0011001101 00111001110 00111111010 00010000010001 "
     ]
    }
   ],
   "source": [
    "from math import log\n",
    "from math import floor\n",
    "\n",
    "def Binary_Representation_Without_MSB(x):\n",
    "    binary = \"{0:b}\".format(int(x))\n",
    "    binary_without_MSB = binary[1:]\n",
    "    return binary_without_MSB\n",
    "\n",
    "def EliasGammaEncode(k):\n",
    "    if (k == 0):\n",
    "        return '0'\n",
    "    N = 1 + floor(log(k, 2))\n",
    "    Unary = (N-1)*'0'+'1'\n",
    "    return Unary + Binary_Representation_Without_MSB(k)\n",
    "\n",
    "def EliasDeltaEncode(x):\n",
    "    Gamma = EliasGammaEncode(1 + floor(log(x, 2)))\n",
    "    binary_without_MSB = Binary_Representation_Without_MSB(x)\n",
    "    return Gamma+binary_without_MSB\n",
    "\n",
    "print(\"The Elias Delta Encoding for Venus is \", end=\" \")\n",
    "Venus = [23, 45, 78, 122, 145]\n",
    "for N in Venus:\n",
    "    print(EliasDeltaEncode(N), end=\" \")\n"
   ]
  },
  {
   "attachments": {},
   "cell_type": "markdown",
   "metadata": {},
   "source": [
    "iv. Apply Elias Delta Encoding and Decoding for “Mercury”"
   ]
  },
  {
   "cell_type": "code",
   "execution_count": 55,
   "metadata": {},
   "outputs": [
    {
     "name": "stdout",
     "output_type": "stream",
     "text": [
      "The Elias Delta Encoding for Mercury is  1 0100 0101 01111 00100001 1  \n",
      "The Decoded Value  is  1\n",
      "The Decoded Value  is  2\n",
      "The Decoded Value  is  3\n",
      "The Decoded Value  is  7\n",
      "The Decoded Value  is  9\n",
      "The Decoded Value  is  1\n"
     ]
    }
   ],
   "source": [
    "mercury=[1, 2, 3, 7, 9, 1]\n",
    "import math\n",
    "from math import log\n",
    "from math import floor\n",
    "\n",
    "def Binary_Representation_Without_MSB(x):\n",
    "    binary = \"{0:b}\".format(int(x))\n",
    "    binary_without_MSB = binary[1:]\n",
    "    return binary_without_MSB\n",
    "\n",
    "def EliasGammaEncode(k):\n",
    "    if (k == 0):\n",
    "        return '0'\n",
    "    N = 1 + floor(log(k, 2))\n",
    "    Unary = (N-1)*'0'+'1'\n",
    "    return Unary + Binary_Representation_Without_MSB(k)\n",
    "\n",
    "def EliasDeltaEncode(x):\n",
    "    Gamma = EliasGammaEncode(1 + floor(log(x, 2)))\n",
    "    binary_without_MSB = Binary_Representation_Without_MSB(x)\n",
    "    return Gamma+binary_without_MSB\n",
    "\n",
    "print(\"The Elias Delta Encoding for Mercury is \", end=\" \")\n",
    "listdec=list()\n",
    "\n",
    "for N in mercury:\n",
    "    listdec.append(EliasDeltaEncode(N))\n",
    "    print(EliasDeltaEncode(N), end=\" \")\n",
    "print(\" \")\n",
    "\n",
    "def decode_elias_delta(x):\n",
    "    if(x=='1'):\n",
    "        return 1    \n",
    "    count=0\n",
    "    for i in x:\n",
    "        if(i=='1'):\n",
    "            break\n",
    "        else:\n",
    "            count=count+1\n",
    "    y=x[count:count+1+count]\n",
    "    exp=int(y,2)-1\n",
    "    rest=int(x[2*count+1:],2)\n",
    "    ans=pow(2,exp)+rest\n",
    "    return ans\n",
    "for i in listdec:\n",
    "    print(\"The Decoded Value  is \", decode_elias_delta(i))\n",
    "\n",
    "\n"
   ]
  },
  {
   "attachments": {},
   "cell_type": "markdown",
   "metadata": {},
   "source": [
    "vii. Variable Byte Encoding"
   ]
  },
  {
   "cell_type": "code",
   "execution_count": 46,
   "metadata": {},
   "outputs": [
    {
     "name": "stdout",
     "output_type": "stream",
     "text": [
      "['00000010', '00001101', '11110000']\n",
      "['10011110']\n",
      "['00000111', '11100011']\n"
     ]
    }
   ],
   "source": [
    "def cumulative_sum_to_normal(cumulative_sum_array):\n",
    "    normal_array = [cumulative_sum_array[0]]\n",
    "    for i in range(1, len(cumulative_sum_array)):\n",
    "        normal_array.append(cumulative_sum_array[i] - cumulative_sum_array[i-1])\n",
    "    return normal_array\n",
    "\n",
    "cumulative_sum_array = [1, 3, 9, 12]\n",
    "normal_array = cumulative_sum_to_normal(cumulative_sum_array)\n",
    "def vbencode(x):\n",
    "    binval=list()\n",
    "    while x>0:\n",
    "        rem=x%128\n",
    "        x=x//128\n",
    "        binval.insert(0,rem)\n",
    "    templist=list()\n",
    "    if(len(binval)==1):\n",
    "        y=bin(binval[0])\n",
    "        tempans=y[2:].zfill(8)\n",
    "        tempans='1'+tempans[1:]\n",
    "        templist.append(tempans)\n",
    "    else:\n",
    "        for i in range(len(binval)-1):\n",
    "            y=bin(binval[i])\n",
    "            templist.append(y[2:].zfill(8))\n",
    "        y=bin(binval[len(binval)-1])\n",
    "        tempans=y[2:].zfill(8)\n",
    "        tempans='1'+tempans[1:]\n",
    "        templist.append(tempans)\n",
    "    return templist\n",
    "docgaps=[34544, 34574, 35569]\n",
    "if(len(docgaps)>1):\n",
    "    docgaps=cumulative_sum_to_normal(docgaps)\n",
    "    for i in range(len(docgaps)):\n",
    "        print(vbencode(docgaps[i]))\n",
    "else:\n",
    "    print(vbencode(docgaps))"
   ]
  },
  {
   "attachments": {},
   "cell_type": "markdown",
   "metadata": {},
   "source": [
    "vi. Apply Elias Delta Decoding for “00101001”"
   ]
  },
  {
   "cell_type": "code",
   "execution_count": 23,
   "metadata": {},
   "outputs": [
    {
     "name": "stdout",
     "output_type": "stream",
     "text": [
      "The Decoded Value of 00101001 is  17\n"
     ]
    }
   ],
   "source": [
    "import math\n",
    "\n",
    "def decode_elias_delta(x):\n",
    "    count=0\n",
    "    for i in x:\n",
    "        if(i=='1'):\n",
    "            break\n",
    "        else:\n",
    "            count=count+1\n",
    "    y=x[count:count+1+count]\n",
    "    exp=int(y,2)-1\n",
    "    rest=int(x[2*count+1:],2)\n",
    "    ans=pow(2,exp)+rest\n",
    "    return ans\n",
    "\n",
    "binary_num = '00101001'\n",
    "print(\"The Decoded Value of 00101001 is \", decode_elias_delta(binary_num))\n"
   ]
  },
  {
   "attachments": {},
   "cell_type": "markdown",
   "metadata": {},
   "source": [
    "Question 3 : Signature Files"
   ]
  },
  {
   "cell_type": "code",
   "execution_count": 2,
   "metadata": {},
   "outputs": [
    {
     "name": "stderr",
     "output_type": "stream",
     "text": [
      "[nltk_data] Downloading package punkt to\n",
      "[nltk_data]     C:\\Users\\ayuar\\AppData\\Roaming\\nltk_data...\n",
      "[nltk_data]   Package punkt is already up-to-date!\n",
      "[nltk_data] Downloading package stopwords to\n",
      "[nltk_data]     C:\\Users\\ayuar\\AppData\\Roaming\\nltk_data...\n",
      "[nltk_data]   Package stopwords is already up-to-date!\n"
     ]
    },
    {
     "data": {
      "text/plain": [
       "True"
      ]
     },
     "execution_count": 2,
     "metadata": {},
     "output_type": "execute_result"
    }
   ],
   "source": [
    "import hashlib\n",
    "import string\n",
    "import nltk\n",
    "from nltk.corpus import stopwords\n",
    "from nltk.tokenize import word_tokenize\n",
    "nltk.download(\"punkt\")\n",
    "nltk.download('stopwords')"
   ]
  },
  {
   "cell_type": "code",
   "execution_count": 47,
   "metadata": {},
   "outputs": [
    {
     "name": "stdout",
     "output_type": "stream",
     "text": [
      "7\n"
     ]
    }
   ],
   "source": [
    "\n",
    "\n",
    "d=dict()\n",
    "def preprocess(doc,indx):\n",
    "    doc=doc[indx].lower()\n",
    "    word_tokens = word_tokenize(doc)\n",
    "    stop_words = set(stopwords.words('english'))\n",
    "    for i in range(0,len(word_tokens)):\n",
    "        if(word_tokens[i]==',' or word_tokens[i].lower() in stop_words or word_tokens[i].isnumeric()):\n",
    "            continue\n",
    "        else:\n",
    "            if indx in d.keys():\n",
    "                d[indx]+=\" \"+word_tokens[i]\n",
    "            else:\n",
    "                d[indx]=word_tokens[i]\n",
    "def generate_hash(word):\n",
    "    hash=int(hashlib.sha256(word.encode()).hexdigest(),16)%(2**30)\n",
    "    binary_hash=bin(hash)[2:].zfill(30)\n",
    "    return binary_hash\n",
    "\n",
    "def divide_sentence(sentence,n):\n",
    "    words=sentence.split()\n",
    "    num_blocks=len(words)//n+(len(words)%n>0)\n",
    "    blocks=[(\" \").join(words[i*n:(i+1)*n]) for i in range(num_blocks)]\n",
    "    return blocks\n",
    "def orval(sentence):\n",
    "    x=sentence.split(\" \")\n",
    "    res=generate_hash(x[0])\n",
    "    for i in range(1,len(x)):\n",
    "        temp=generate_hash(x[i].lower())\n",
    "        z=str(temp)\n",
    "        y=str(res)\n",
    "        int_1 = int(z, 2)\n",
    "        int_2 = int(y, 2)\n",
    "        result = int_1 | int_2\n",
    "        res=bin(result)[2:].zfill(30)\n",
    "    return res\n",
    "sentence=\"This is a text. A text has many words. Words are made from letters. The text is made of letters. Made many words letters text. Letters are text.\"\n",
    "sentence = sentence.translate(str.maketrans('', '', string.punctuation))\n",
    "ans=divide_sentence(sentence,4)\n",
    "print(len(ans))\n",
    "d1=dict()\n",
    "for i in range(len(ans)):\n",
    "    preprocess(ans,i)\n",
    "for i,j in d.items():\n",
    "    y=orval(j)\n",
    "    d1[i]=y\n"
   ]
  },
  {
   "attachments": {},
   "cell_type": "markdown",
   "metadata": {},
   "source": [
    "Text"
   ]
  },
  {
   "cell_type": "code",
   "execution_count": 4,
   "metadata": {},
   "outputs": [
    {
     "name": "stdout",
     "output_type": "stream",
     "text": [
      "['This is a text', 'A text has many', 'words Words are made', 'from letters The text', 'is made of letters', 'Made many words letters', 'text Letters are text']\n",
      "Found in Block 1 consisting of This is a text\n",
      "Found in Block 2 consisting of A text has many\n",
      "Found in Block 4 consisting of from letters The text\n",
      "Found in Block 7 consisting of text Letters are text\n"
     ]
    }
   ],
   "source": [
    "n=\"Text\"\n",
    "n=n.lower()\n",
    "ans1=generate_hash(n)\n",
    "ans2=int(ans1,2)\n",
    "print(ans)\n",
    "for i,j in d1.items():\n",
    "    y=int(str(ans1),2)\n",
    "    x=int(str(j),2)\n",
    "    res=y&x\n",
    "    if(res==ans2):\n",
    "        print(\"Found in Block {} consisting of {}\".format(i+1,ans[i]))\n"
   ]
  },
  {
   "attachments": {},
   "cell_type": "markdown",
   "metadata": {},
   "source": [
    "Words"
   ]
  },
  {
   "cell_type": "code",
   "execution_count": 5,
   "metadata": {},
   "outputs": [
    {
     "name": "stdout",
     "output_type": "stream",
     "text": [
      "['This is a text', 'A text has many', 'words Words are made', 'from letters The text', 'is made of letters', 'Made many words letters', 'text Letters are text']\n",
      "Found in Block 3 consisting of words Words are made\n",
      "Found in Block 6 consisting of Made many words letters\n"
     ]
    }
   ],
   "source": [
    "n=\"Words\"\n",
    "n=n.lower()\n",
    "ans1=generate_hash(n)\n",
    "ans2=int(ans1,2)\n",
    "print(ans)\n",
    "for i,j in d1.items():\n",
    "    y=int(str(ans1),2)\n",
    "    x=int(str(j),2)\n",
    "    res=y&x\n",
    "    if(res==ans2):\n",
    "        print(\"Found in Block {} consisting of {}\".format(i+1,ans[i]))\n"
   ]
  },
  {
   "attachments": {},
   "cell_type": "markdown",
   "metadata": {},
   "source": [
    "Made"
   ]
  },
  {
   "cell_type": "code",
   "execution_count": 6,
   "metadata": {},
   "outputs": [
    {
     "name": "stdout",
     "output_type": "stream",
     "text": [
      "['This is a text', 'A text has many', 'words Words are made', 'from letters The text', 'is made of letters', 'Made many words letters', 'text Letters are text']\n",
      "Found in Block 3 consisting of words Words are made\n",
      "Found in Block 5 consisting of is made of letters\n",
      "Found in Block 6 consisting of Made many words letters\n"
     ]
    }
   ],
   "source": [
    "n=\"Made\"\n",
    "n=n.lower()\n",
    "ans1=generate_hash(n)\n",
    "ans2=int(ans1,2)\n",
    "print(ans)\n",
    "for i,j in d1.items():\n",
    "    y=int(str(ans1),2)\n",
    "    x=int(str(j),2)\n",
    "    res=y&x\n",
    "    if(res==ans2):\n",
    "        print(\"Found in Block {} consisting of {}\".format(i+1,ans[i]))\n"
   ]
  },
  {
   "attachments": {},
   "cell_type": "markdown",
   "metadata": {},
   "source": [
    "Letters"
   ]
  },
  {
   "cell_type": "code",
   "execution_count": 7,
   "metadata": {},
   "outputs": [
    {
     "name": "stdout",
     "output_type": "stream",
     "text": [
      "['This is a text', 'A text has many', 'words Words are made', 'from letters The text', 'is made of letters', 'Made many words letters', 'text Letters are text']\n",
      "Found in Block 4 consisting of from letters The text\n",
      "Found in Block 5 consisting of is made of letters\n",
      "Found in Block 6 consisting of Made many words letters\n",
      "Found in Block 7 consisting of text Letters are text\n"
     ]
    }
   ],
   "source": [
    "n=\"Letters\"\n",
    "n=n.lower()\n",
    "ans1=generate_hash(n)\n",
    "ans2=int(ans1,2)\n",
    "print(ans)\n",
    "for i,j in d1.items():\n",
    "    y=int(str(ans1),2)\n",
    "    x=int(str(j),2)\n",
    "    res=y&x\n",
    "    if(res==ans2):\n",
    "        print(\"Found in Block {} consisting of {}\".format(i+1,ans[i]))"
   ]
  }
 ],
 "metadata": {
  "kernelspec": {
   "display_name": "Python 3",
   "language": "python",
   "name": "python3"
  },
  "language_info": {
   "codemirror_mode": {
    "name": "ipython",
    "version": 3
   },
   "file_extension": ".py",
   "mimetype": "text/x-python",
   "name": "python",
   "nbconvert_exporter": "python",
   "pygments_lexer": "ipython3",
   "version": "3.10.5"
  },
  "orig_nbformat": 4,
  "vscode": {
   "interpreter": {
    "hash": "aefb8f425c96f33eba64b27e340694185e828f19562f8f40b86ace482095f222"
   }
  }
 },
 "nbformat": 4,
 "nbformat_minor": 2
}

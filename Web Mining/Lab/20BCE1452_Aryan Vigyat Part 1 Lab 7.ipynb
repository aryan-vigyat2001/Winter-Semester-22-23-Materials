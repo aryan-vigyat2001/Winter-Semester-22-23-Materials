{
  "cells": [
    {
      "attachments": {},
      "cell_type": "markdown",
      "metadata": {
        "id": "72eOtToVjUUq"
      },
      "source": [
        "<h1 align=\"center\">Web Mining Lab Assignment-7</h1>\n",
        "                                                                                                                                        <h3 align=\"right\">Aryan Vigyat</h3>\n",
        "                                                                                                            <h3 align=\"right\"> 20BCE1452</h3>"
      ]
    },
    {
      "attachments": {},
      "cell_type": "markdown",
      "metadata": {},
      "source": [
        "Spam Ham Classification using TF-IDF and Naive Bayes\n"
      ]
    },
    {
      "cell_type": "markdown",
      "metadata": {
        "id": "nzl4U85EjbVF"
      },
      "source": [
        "Question 1"
      ]
    },
    {
      "cell_type": "code",
      "execution_count": null,
      "metadata": {
        "id": "VMYNJPXXJmtD"
      },
      "outputs": [],
      "source": [
        "import numpy as np\n",
        "import pandas as pd"
      ]
    },
    {
      "cell_type": "code",
      "execution_count": null,
      "metadata": {
        "id": "vDUUA_OhJroE"
      },
      "outputs": [],
      "source": [
        "import matplotlib.pyplot as plt\n",
        "import seaborn as sns\n",
        "%matplotlib inline"
      ]
    },
    {
      "cell_type": "markdown",
      "metadata": {
        "id": "svm1o7dDjfTY"
      },
      "source": []
    },
    {
      "cell_type": "code",
      "execution_count": null,
      "metadata": {
        "id": "fvGZSjXjJ0h5"
      },
      "outputs": [],
      "source": [
        "df=pd.read_csv('Spam-Ham-Classification.csv')"
      ]
    },
    {
      "cell_type": "code",
      "execution_count": null,
      "metadata": {
        "colab": {
          "base_uri": "https://localhost:8080/",
          "height": 175
        },
        "id": "FT7q6Z-4KkqH",
        "outputId": "bee1542b-5eb5-41df-fc53-2c32716dd8a5"
      },
      "outputs": [
        {
          "data": {
            "text/html": [
              "\n",
              "  <div id=\"df-35ec2d73-27c6-4f77-94c4-f25cc69ae049\">\n",
              "    <div class=\"colab-df-container\">\n",
              "      <div>\n",
              "<style scoped>\n",
              "    .dataframe tbody tr th:only-of-type {\n",
              "        vertical-align: middle;\n",
              "    }\n",
              "\n",
              "    .dataframe tbody tr th {\n",
              "        vertical-align: top;\n",
              "    }\n",
              "\n",
              "    .dataframe thead tr th {\n",
              "        text-align: left;\n",
              "    }\n",
              "\n",
              "    .dataframe thead tr:last-of-type th {\n",
              "        text-align: right;\n",
              "    }\n",
              "</style>\n",
              "<table border=\"1\" class=\"dataframe\">\n",
              "  <thead>\n",
              "    <tr>\n",
              "      <th></th>\n",
              "      <th colspan=\"4\" halign=\"left\">Message</th>\n",
              "    </tr>\n",
              "    <tr>\n",
              "      <th></th>\n",
              "      <th>count</th>\n",
              "      <th>unique</th>\n",
              "      <th>top</th>\n",
              "      <th>freq</th>\n",
              "    </tr>\n",
              "    <tr>\n",
              "      <th>Category</th>\n",
              "      <th></th>\n",
              "      <th></th>\n",
              "      <th></th>\n",
              "      <th></th>\n",
              "    </tr>\n",
              "  </thead>\n",
              "  <tbody>\n",
              "    <tr>\n",
              "      <th>ham</th>\n",
              "      <td>4825</td>\n",
              "      <td>4516</td>\n",
              "      <td>Sorry, I'll call later</td>\n",
              "      <td>30</td>\n",
              "    </tr>\n",
              "    <tr>\n",
              "      <th>spam</th>\n",
              "      <td>747</td>\n",
              "      <td>641</td>\n",
              "      <td>Please call our customer service representativ...</td>\n",
              "      <td>4</td>\n",
              "    </tr>\n",
              "  </tbody>\n",
              "</table>\n",
              "</div>\n",
              "      <button class=\"colab-df-convert\" onclick=\"convertToInteractive('df-35ec2d73-27c6-4f77-94c4-f25cc69ae049')\"\n",
              "              title=\"Convert this dataframe to an interactive table.\"\n",
              "              style=\"display:none;\">\n",
              "        \n",
              "  <svg xmlns=\"http://www.w3.org/2000/svg\" height=\"24px\"viewBox=\"0 0 24 24\"\n",
              "       width=\"24px\">\n",
              "    <path d=\"M0 0h24v24H0V0z\" fill=\"none\"/>\n",
              "    <path d=\"M18.56 5.44l.94 2.06.94-2.06 2.06-.94-2.06-.94-.94-2.06-.94 2.06-2.06.94zm-11 1L8.5 8.5l.94-2.06 2.06-.94-2.06-.94L8.5 2.5l-.94 2.06-2.06.94zm10 10l.94 2.06.94-2.06 2.06-.94-2.06-.94-.94-2.06-.94 2.06-2.06.94z\"/><path d=\"M17.41 7.96l-1.37-1.37c-.4-.4-.92-.59-1.43-.59-.52 0-1.04.2-1.43.59L10.3 9.45l-7.72 7.72c-.78.78-.78 2.05 0 2.83L4 21.41c.39.39.9.59 1.41.59.51 0 1.02-.2 1.41-.59l7.78-7.78 2.81-2.81c.8-.78.8-2.07 0-2.86zM5.41 20L4 18.59l7.72-7.72 1.47 1.35L5.41 20z\"/>\n",
              "  </svg>\n",
              "      </button>\n",
              "      \n",
              "  <style>\n",
              "    .colab-df-container {\n",
              "      display:flex;\n",
              "      flex-wrap:wrap;\n",
              "      gap: 12px;\n",
              "    }\n",
              "\n",
              "    .colab-df-convert {\n",
              "      background-color: #E8F0FE;\n",
              "      border: none;\n",
              "      border-radius: 50%;\n",
              "      cursor: pointer;\n",
              "      display: none;\n",
              "      fill: #1967D2;\n",
              "      height: 32px;\n",
              "      padding: 0 0 0 0;\n",
              "      width: 32px;\n",
              "    }\n",
              "\n",
              "    .colab-df-convert:hover {\n",
              "      background-color: #E2EBFA;\n",
              "      box-shadow: 0px 1px 2px rgba(60, 64, 67, 0.3), 0px 1px 3px 1px rgba(60, 64, 67, 0.15);\n",
              "      fill: #174EA6;\n",
              "    }\n",
              "\n",
              "    [theme=dark] .colab-df-convert {\n",
              "      background-color: #3B4455;\n",
              "      fill: #D2E3FC;\n",
              "    }\n",
              "\n",
              "    [theme=dark] .colab-df-convert:hover {\n",
              "      background-color: #434B5C;\n",
              "      box-shadow: 0px 1px 3px 1px rgba(0, 0, 0, 0.15);\n",
              "      filter: drop-shadow(0px 1px 2px rgba(0, 0, 0, 0.3));\n",
              "      fill: #FFFFFF;\n",
              "    }\n",
              "  </style>\n",
              "\n",
              "      <script>\n",
              "        const buttonEl =\n",
              "          document.querySelector('#df-35ec2d73-27c6-4f77-94c4-f25cc69ae049 button.colab-df-convert');\n",
              "        buttonEl.style.display =\n",
              "          google.colab.kernel.accessAllowed ? 'block' : 'none';\n",
              "\n",
              "        async function convertToInteractive(key) {\n",
              "          const element = document.querySelector('#df-35ec2d73-27c6-4f77-94c4-f25cc69ae049');\n",
              "          const dataTable =\n",
              "            await google.colab.kernel.invokeFunction('convertToInteractive',\n",
              "                                                     [key], {});\n",
              "          if (!dataTable) return;\n",
              "\n",
              "          const docLinkHtml = 'Like what you see? Visit the ' +\n",
              "            '<a target=\"_blank\" href=https://colab.research.google.com/notebooks/data_table.ipynb>data table notebook</a>'\n",
              "            + ' to learn more about interactive tables.';\n",
              "          element.innerHTML = '';\n",
              "          dataTable['output_type'] = 'display_data';\n",
              "          await google.colab.output.renderOutput(dataTable, element);\n",
              "          const docLink = document.createElement('div');\n",
              "          docLink.innerHTML = docLinkHtml;\n",
              "          element.appendChild(docLink);\n",
              "        }\n",
              "      </script>\n",
              "    </div>\n",
              "  </div>\n",
              "  "
            ],
            "text/plain": [
              "         Message                                                            \\\n",
              "           count unique                                                top   \n",
              "Category                                                                     \n",
              "ham         4825   4516                             Sorry, I'll call later   \n",
              "spam         747    641  Please call our customer service representativ...   \n",
              "\n",
              "               \n",
              "         freq  \n",
              "Category       \n",
              "ham        30  \n",
              "spam        4  "
            ]
          },
          "execution_count": 8,
          "metadata": {},
          "output_type": "execute_result"
        }
      ],
      "source": [
        "df.groupby('Category').describe()"
      ]
    },
    {
      "cell_type": "code",
      "execution_count": null,
      "metadata": {
        "colab": {
          "base_uri": "https://localhost:8080/",
          "height": 297
        },
        "id": "n8zH9ZQzKpVV",
        "outputId": "527059d5-ac9e-4e31-d01e-2cdd71c6cd29"
      },
      "outputs": [
        {
          "data": {
            "text/plain": [
              "<matplotlib.axes._subplots.AxesSubplot at 0x7f248b5275b0>"
            ]
          },
          "execution_count": 10,
          "metadata": {},
          "output_type": "execute_result"
        },
        {
          "data": {
            "image/png": "[encoded data removed]",
            "text/plain": [
              "<Figure size 432x288 with 1 Axes>"
            ]
          },
          "metadata": {
            "needs_background": "light"
          },
          "output_type": "display_data"
        }
      ],
      "source": [
        "sns.countplot(data=df, x='Category')"
      ]
    },
    {
      "cell_type": "code",
      "execution_count": 33,
      "metadata": {
        "colab": {
          "base_uri": "https://localhost:8080/"
        },
        "id": "6bB6wkqJLHFE",
        "outputId": "4ddd4ec4-3424-4014-dd56-a46314176a9a"
      },
      "outputs": [
        {
          "name": "stderr",
          "output_type": "stream",
          "text": [
            "[nltk_data] Downloading package punkt to /root/nltk_data...\n",
            "[nltk_data]   Package punkt is already up-to-date!\n",
            "[nltk_data] Downloading package stopwords to /root/nltk_data...\n",
            "[nltk_data]   Package stopwords is already up-to-date!\n"
          ]
        }
      ],
      "source": [
        "import nltk\n",
        "nltk.download(\"punkt\")\n",
        "nltk.download('stopwords')\n",
        "import string\n",
        "from nltk.corpus import stopwords\n",
        "from nltk import PorterStemmer as Stemmer\n",
        "def process(text):\n",
        "    # lowercase it\n",
        "    text = text.lower()\n",
        "    # remove punctuation\n",
        "    text = ''.join([t for t in text if t not in string.punctuation])\n",
        "    # remove stopwords\n",
        "    text = [t for t in text.split() if t not in stopwords.words('english')]\n",
        "    # stemming\n",
        "    st = Stemmer()\n",
        "    text = [st.stem(t) for t in text]\n",
        "    # return token list\n",
        "    return text"
      ]
    },
    {
      "cell_type": "code",
      "execution_count": 35,
      "metadata": {
        "id": "F24-EzLcMQf4"
      },
      "outputs": [],
      "source": [
        "from sklearn.feature_extraction.text import TfidfVectorizer"
      ]
    },
    {
      "cell_type": "markdown",
      "metadata": {
        "id": "pSmr3yYzjnVU"
      },
      "source": [
        "Creating a Pipeline of Vectorizer and Classifier"
      ]
    },
    {
      "cell_type": "code",
      "execution_count": 36,
      "metadata": {
        "id": "yqL8eTD1fpXn"
      },
      "outputs": [],
      "source": [
        "from sklearn.pipeline import Pipeline\n",
        "from sklearn.naive_bayes import MultinomialNB\n",
        "spam_filter = Pipeline([\n",
        "    ('vectorizer', TfidfVectorizer(analyzer=process)), # messages to weighted TFIDF score\n",
        "    ('classifier', MultinomialNB())                    # train on TFIDF vectors with Naive Bayes\n",
        "])"
      ]
    },
    {
      "cell_type": "markdown",
      "metadata": {
        "id": "DuKNRNV3f3fA"
      },
      "source": [
        "Split into test and train dataset\n"
      ]
    },
    {
      "cell_type": "code",
      "execution_count": 37,
      "metadata": {
        "id": "WVrbQfGBfq6y"
      },
      "outputs": [],
      "source": [
        "from sklearn.model_selection import train_test_split\n",
        "x_train, x_test, y_train, y_test = train_test_split(df['Message'], df['Category'], test_size=0.20, random_state = 21)"
      ]
    },
    {
      "cell_type": "markdown",
      "metadata": {
        "id": "NIvp_gIqj6ux"
      },
      "source": [
        "Train the Model"
      ]
    },
    {
      "cell_type": "code",
      "execution_count": 38,
      "metadata": {
        "colab": {
          "base_uri": "https://localhost:8080/"
        },
        "id": "JJFCpUFof-Xj",
        "outputId": "7eb6ecfc-d75e-4612-b5ac-4324d9c9ee6a"
      },
      "outputs": [
        {
          "data": {
            "text/plain": [
              "Pipeline(steps=[('vectorizer',\n",
              "                 TfidfVectorizer(analyzer=<function process at 0x7f2486890ee0>)),\n",
              "                ('classifier', MultinomialNB())])"
            ]
          },
          "execution_count": 38,
          "metadata": {},
          "output_type": "execute_result"
        }
      ],
      "source": [
        "spam_filter.fit(x_train, y_train)"
      ]
    },
    {
      "cell_type": "markdown",
      "metadata": {
        "id": "5cCfSKgOj9cR"
      },
      "source": [
        "**Predict Values Using the Test Dataset**"
      ]
    },
    {
      "cell_type": "code",
      "execution_count": 28,
      "metadata": {
        "id": "tFAobQMUgHcK"
      },
      "outputs": [],
      "source": [
        "predictions = spam_filter.predict(x_test)"
      ]
    },
    {
      "cell_type": "code",
      "execution_count": 31,
      "metadata": {
        "colab": {
          "base_uri": "https://localhost:8080/"
        },
        "id": "X9wGMDyjgUvo",
        "outputId": "3cd71e52-d359-42a7-8bbd-c169f51b7ac7"
      },
      "outputs": [
        {
          "name": "stdout",
          "output_type": "stream",
          "text": [
            "              precision    recall  f1-score   support\n",
            "\n",
            "         ham       1.00      0.96      0.98       999\n",
            "        spam       0.74      0.99      0.85       116\n",
            "\n",
            "    accuracy                           0.96      1115\n",
            "   macro avg       0.87      0.98      0.91      1115\n",
            "weighted avg       0.97      0.96      0.97      1115\n",
            "\n"
          ]
        }
      ],
      "source": [
        "from sklearn.metrics import classification_report,confusion_matrix\n",
        "print(classification_report(predictions, y_test))"
      ]
    },
    {
      "cell_type": "markdown",
      "metadata": {
        "id": "ALE3RnCYjiQI"
      },
      "source": [
        "Confusion Matrix"
      ]
    },
    {
      "cell_type": "code",
      "execution_count": 32,
      "metadata": {
        "colab": {
          "base_uri": "https://localhost:8080/",
          "height": 282
        },
        "id": "ZaPytpswh5Ip",
        "outputId": "0e222b1a-cc50-4c2f-d502-5e5301dfe9e8"
      },
      "outputs": [
        {
          "data": {
            "text/plain": [
              "<matplotlib.axes._subplots.AxesSubplot at 0x7f24868156d0>"
            ]
          },
          "execution_count": 32,
          "metadata": {},
          "output_type": "execute_result"
        },
        {
          "data": {
            "image/png": "[encoded data removed]",
            "text/plain": [
              "<Figure size 432x288 with 2 Axes>"
            ]
          },
          "metadata": {
            "needs_background": "light"
          },
          "output_type": "display_data"
        }
      ],
      "source": [
        "import seaborn as sns\n",
        "sns.heatmap(confusion_matrix(y_test,predictions),annot=True)"
      ]
    },
    {
      "cell_type": "markdown",
      "metadata": {
        "id": "lEJ8c1ygkOHA"
      },
      "source": [
        "Question 2"
      ]
    },
    {
      "cell_type": "code",
      "execution_count": 41,
      "metadata": {
        "colab": {
          "base_uri": "https://localhost:8080/"
        },
        "id": "zs7JYogbkQV5",
        "outputId": "5be280bc-f483-4ff2-d3aa-7805116b00d4"
      },
      "outputs": [
        {
          "name": "stdout",
          "output_type": "stream",
          "text": [
            "   Unnamed: 0  Clothing ID  Age                    Title  \\\n",
            "0           0          767   33                      NaN   \n",
            "1           1         1080   34                      NaN   \n",
            "2           2         1077   60  Some major design flaws   \n",
            "3           3         1049   50         My favorite buy!   \n",
            "4           4          847   47         Flattering shirt   \n",
            "\n",
            "                                         Review Text  Rating  Recommended IND  \\\n",
            "0  Absolutely wonderful - silky and sexy and comf...       4                1   \n",
            "1  Love this dress!  it's sooo pretty.  i happene...       5                1   \n",
            "2  I had such high hopes for this dress and reall...       3                0   \n",
            "3  I love, love, love this jumpsuit. it's fun, fl...       5                1   \n",
            "4  This shirt is very flattering to all due to th...       5                1   \n",
            "\n",
            "   Positive Feedback Count   Division Name Department Name Class Name  \n",
            "0                        0       Initmates        Intimate  Intimates  \n",
            "1                        4         General         Dresses    Dresses  \n",
            "2                        0         General         Dresses    Dresses  \n",
            "3                        0  General Petite         Bottoms      Pants  \n",
            "4                        6         General            Tops    Blouses  \n"
          ]
        }
      ],
      "source": [
        "df2=pd.read_csv('Womens Clothing E-Commerce Reviews.csv')\n",
        "print(df2.head())\n",
        "df2['Review Text'] = df2['Review Text'].fillna('')\n",
        "\n",
        "# CountVectorizer() converts a collection \n",
        "# of text documents to a matrix of token counts\n",
        "sentiment_filter = Pipeline([\n",
        "    ('vectorizer', TfidfVectorizer(analyzer=process)), # messages to weighted TFIDF score\n",
        "    ('classifier', MultinomialNB())                    # train on TFIDF vectors with Naive Bayes\n",
        "])\n"
      ]
    },
    {
      "cell_type": "code",
      "execution_count": 57,
      "metadata": {
        "colab": {
          "base_uri": "https://localhost:8080/"
        },
        "id": "zyfqQkC8rQ0i",
        "outputId": "68f6f2b7-444a-4742-bc08-3c0c3fb20206"
      },
      "outputs": [
        {
          "data": {
            "text/plain": [
              "Unnamed: 0                 18208\n",
              "Clothing ID                18208\n",
              "Age                        18208\n",
              "Title                      15161\n",
              "Review Text                18208\n",
              "Rating                     18208\n",
              "Recommended IND            18208\n",
              "Positive Feedback Count    18208\n",
              "Division Name              18194\n",
              "Department Name            18194\n",
              "Class Name                 18194\n",
              "Sentiment                  18208\n",
              "dtype: int64"
            ]
          },
          "execution_count": 57,
          "metadata": {},
          "output_type": "execute_result"
        }
      ],
      "source": [
        "# Rating of 4 or higher -> positive, while the ones with \n",
        "# Rating of 2 or lower -> negative \n",
        "# Rating of 3 -> neutral\n",
        "df2 = df2[df2['Rating'] != 3]\n",
        "df2['Sentiment'] = df2['Rating'] >=4\n",
        "# df2.head()\n",
        "df2[df2['Sentiment']==1].count()"
      ]
    },
    {
      "cell_type": "code",
      "execution_count": 44,
      "metadata": {
        "id": "mvqvqxWusCdU"
      },
      "outputs": [],
      "source": [
        "from sklearn.model_selection import train_test_split\n",
        "x_train, x_test, y_train, y_test = train_test_split(df2['Review Text'], df2['Sentiment'], test_size=0.20, random_state = 21)"
      ]
    },
    {
      "cell_type": "code",
      "execution_count": 45,
      "metadata": {
        "colab": {
          "base_uri": "https://localhost:8080/"
        },
        "id": "Jbx_g8insMUd",
        "outputId": "51af3624-4f0e-4ba8-a6b2-29efb7840d2b"
      },
      "outputs": [
        {
          "data": {
            "text/plain": [
              "Pipeline(steps=[('vectorizer',\n",
              "                 TfidfVectorizer(analyzer=<function process at 0x7f2486890ee0>)),\n",
              "                ('classifier', MultinomialNB())])"
            ]
          },
          "execution_count": 45,
          "metadata": {},
          "output_type": "execute_result"
        }
      ],
      "source": [
        "sentiment_filter.fit(x_train, y_train)"
      ]
    },
    {
      "cell_type": "code",
      "execution_count": 48,
      "metadata": {
        "id": "5dKlPwKxsz9W"
      },
      "outputs": [],
      "source": [
        "predictions = sentiment_filter.predict(x_test)\n"
      ]
    },
    {
      "cell_type": "code",
      "execution_count": 49,
      "metadata": {
        "colab": {
          "base_uri": "https://localhost:8080/"
        },
        "id": "BIKms4nCtJED",
        "outputId": "30f75d85-971f-4082-f288-8c935ea5b345"
      },
      "outputs": [
        {
          "name": "stdout",
          "output_type": "stream",
          "text": [
            "              precision    recall  f1-score   support\n",
            "\n",
            "       False       0.01      1.00      0.02         4\n",
            "        True       1.00      0.88      0.94      4119\n",
            "\n",
            "    accuracy                           0.88      4123\n",
            "   macro avg       0.50      0.94      0.48      4123\n",
            "weighted avg       1.00      0.88      0.94      4123\n",
            "\n"
          ]
        }
      ],
      "source": [
        "from sklearn.metrics import classification_report,confusion_matrix\n",
        "print(classification_report(predictions, y_test))"
      ]
    },
    {
      "cell_type": "markdown",
      "metadata": {
        "id": "cu0kyejptbSe"
      },
      "source": [
        "Confusion Matrix"
      ]
    },
    {
      "cell_type": "code",
      "execution_count": 50,
      "metadata": {
        "colab": {
          "base_uri": "https://localhost:8080/",
          "height": 282
        },
        "id": "mhWeldYBtf9b",
        "outputId": "82e5bf58-217d-470c-f607-1f5351b300f2"
      },
      "outputs": [
        {
          "data": {
            "text/plain": [
              "<matplotlib.axes._subplots.AxesSubplot at 0x7f24828c1dc0>"
            ]
          },
          "execution_count": 50,
          "metadata": {},
          "output_type": "execute_result"
        },
        {
          "data": {
            "image/png": "[encoded data removed]",
            "text/plain": [
              "<Figure size 432x288 with 2 Axes>"
            ]
          },
          "metadata": {
            "needs_background": "light"
          },
          "output_type": "display_data"
        }
      ],
      "source": [
        "import seaborn as sns\n",
        "sns.heatmap(confusion_matrix(y_test,predictions),annot=True)"
      ]
    }
  ],
  "metadata": {
    "colab": {
      "provenance": []
    },
    "kernelspec": {
      "display_name": "Python 3",
      "language": "python",
      "name": "python3"
    },
    "language_info": {
      "name": "python",
      "version": "3.10.5"
    },
    "vscode": {
      "interpreter": {
        "hash": "aefb8f425c96f33eba64b27e340694185e828f19562f8f40b86ace482095f222"
      }
    }
  },
  "nbformat": 4,
  "nbformat_minor": 0
}
